{
  "nbformat": 4,
  "nbformat_minor": 0,
  "metadata": {
    "colab": {
      "name": "IR_Categories_classification.ipynb",
      "provenance": [],
      "toc_visible": true,
      "authorship_tag": "ABX9TyOOncc+H5bKYzrOmfxvMoBf",
      "include_colab_link": true
    },
    "kernelspec": {
      "display_name": "Python 3",
      "name": "python3"
    }
  },
  "cells": [
    {
      "cell_type": "markdown",
      "metadata": {
        "id": "view-in-github",
        "colab_type": "text"
      },
      "source": [
        "<a href=\"https://colab.research.google.com/github/vieduy/CS114.K21/blob/master/IR_Categories_classification.ipynb\" target=\"_parent\"><img src=\"https://colab.research.google.com/assets/colab-badge.svg\" alt=\"Open In Colab\"/></a>"
      ]
    },
    {
      "cell_type": "markdown",
      "metadata": {
        "id": "JSy0EjFpmH0v"
      },
      "source": [
        "## Import library"
      ]
    },
    {
      "cell_type": "code",
      "metadata": {
        "id": "qhl4z1HSdLqo"
      },
      "source": [
        "import numpy as np\r\n",
        "from sklearn.datasets import fetch_20newsgroups\r\n",
        "from sklearn.feature_extraction.text import CountVectorizer\r\n",
        "from sklearn.feature_extraction.text import TfidfTransformer\r\n",
        "from sklearn.neighbors import KNeighborsClassifier\r\n",
        "from sklearn.pipeline import Pipeline\r\n",
        "from sklearn.naive_bayes import GaussianNB\r\n",
        "from sklearn.datasets import fetch_20newsgroups"
      ],
      "execution_count": 1,
      "outputs": []
    },
    {
      "cell_type": "markdown",
      "metadata": {
        "id": "MBXp6yNSmLpZ"
      },
      "source": [
        "## Download dataset 20newsgroups"
      ]
    },
    {
      "cell_type": "code",
      "metadata": {
        "id": "zT0XaPSPdZXn"
      },
      "source": [
        "# We defined the categories which we want to classify\r\n",
        "categories = ['rec.motorcycles', 'sci.electronics',\r\n",
        "              'comp.graphics', 'sci.med', 'alt.atheism', 'comp.os.ms-windows.misc', \r\n",
        "              'comp.sys.ibm.pc.hardware', 'comp.sys.mac.hardware', 'comp.windows.x', \r\n",
        "              'misc.forsale', 'rec.autos', 'rec.sport.baseball',\r\n",
        "              'rec.sport.hockey', 'sci.crypt', 'sci.space', 'soc.religion.christian', 'talk.politics.guns',\r\n",
        "              'talk.politics.mideast', 'talk.politics.misc', 'talk.religion.misc']\r\n",
        "\r\n",
        "# sklearn provides us with subset data for training and testing\r\n",
        "train_data = fetch_20newsgroups(subset='train',\r\n",
        "                                categories=categories, shuffle=True, random_state=42)"
      ],
      "execution_count": 3,
      "outputs": []
    },
    {
      "cell_type": "markdown",
      "metadata": {
        "id": "oYG9V19Fml-V"
      },
      "source": [
        "## Define stopwords and punctuation"
      ]
    },
    {
      "cell_type": "code",
      "metadata": {
        "colab": {
          "base_uri": "https://localhost:8080/"
        },
        "id": "m9ZyWKyznjvY",
        "outputId": "29c895ca-24a3-4e6d-ab5b-f4b5943a93b3"
      },
      "source": [
        "from string import punctuation\r\n",
        "import nltk\r\n",
        "from nltk.corpus import stopwords\r\n",
        "nltk.download('stopwords')\r\n",
        "from nltk.tokenize import word_tokenize\r\n",
        "\r\n",
        "nltk.download('stopwords')\r\n",
        "stop = set(stopwords.words('english'))\r\n",
        "punctuation = list(punctuation)\r\n",
        "print(punctuation)\r\n",
        "stop.update(punctuation)\r\n",
        "stop.remove('i')\r\n",
        "print(stop)"
      ],
      "execution_count": 4,
      "outputs": [
        {
          "output_type": "stream",
          "text": [
            "[nltk_data] Downloading package stopwords to /root/nltk_data...\n",
            "[nltk_data]   Unzipping corpora/stopwords.zip.\n",
            "[nltk_data] Downloading package stopwords to /root/nltk_data...\n",
            "[nltk_data]   Package stopwords is already up-to-date!\n",
            "['!', '\"', '#', '$', '%', '&', \"'\", '(', ')', '*', '+', ',', '-', '.', '/', ':', ';', '<', '=', '>', '?', '@', '[', '\\\\', ']', '^', '_', '`', '{', '|', '}', '~']\n",
            "{'o', 'at', 've', 'until', 'my', '\"', 'herself', 'out', \"'\", 'by', 'most', 'isn', 'am', 'as', 'ain', 'this', 'mustn', '%', 'him', 'here', 'mightn', 'what', 'y', 'than', \"you'll\", 'doesn', 'been', '\\\\', '^', \"doesn't\", 'each', 'now', 'an', 'you', 'where', 'do', \"shouldn't\", \"haven't\", ']', 'nor', 'that', 'me', \"don't\", '@', 'is', 't', 'm', 'in', '#', 'ourselves', 'some', 'own', 'needn', 'shouldn', 'these', 'which', '=', 'more', 'if', 'both', \"it's\", '-', 'be', 'to', 'just', 'll', 'can', 'because', 'd', '_', '{', 'on', \"won't\", 'only', 'how', 'down', 's', 'was', 'myself', 'them', '!', \"didn't\", '?', 'its', 'have', 'or', 'the', 'so', 'hers', 'wouldn', 'theirs', 'didn', '.', \"you'd\", 'of', 'no', 'their', 'into', 'a', 'during', 'under', 're', 'ours', 'who', 'did', 'up', 'those', 'why', 'other', 'very', 'then', 'all', '+', '}', \"hasn't\", \"you've\", 'haven', '<', 'she', 'whom', 'weren', 'he', 'won', 'about', 'against', \"mightn't\", 'himself', 'and', 'couldn', \"should've\", 'there', 'being', 'through', 'further', 'should', 'aren', '>', '*', 'yours', \"you're\", ')', 'don', 'with', 'before', 'has', 'yourself', 'again', '&', '(', 'above', \"weren't\", 'are', 'your', 'we', 'from', \"she's\", \"wouldn't\", 'off', 'were', 'for', \"isn't\", 'wasn', 'when', 'will', '~', 'while', 'between', 'does', 'few', '[', 'once', 'after', '|', 'our', '`', 'but', 'his', 'too', \"shan't\", 'her', \"that'll\", 'same', 'ma', 'doing', ':', 'over', \"needn't\", 'had', 'not', \"couldn't\", \"wasn't\", \"hadn't\", 'yourselves', \"aren't\", ',', 'such', 'hadn', 'having', 'itself', 'any', 'hasn', 'shan', '/', \"mustn't\", ';', 'themselves', 'below', 'they', '$', 'it'}\n"
          ],
          "name": "stdout"
        }
      ]
    },
    {
      "cell_type": "code",
      "metadata": {
        "id": "dIqq_h4vm_V9"
      },
      "source": [
        "from nltk.stem import PorterStemmer\r\n",
        "import re\r\n",
        "ps = PorterStemmer()\r\n",
        "\r\n",
        "#Removing the stopwords from text\r\n",
        "def remove_stopwords(text):\r\n",
        "    final_text = []\r\n",
        "    for i in split(text):\r\n",
        "        if i.strip().lower() not in punctuation:\r\n",
        "            final_text.append(ps.stem(i.strip()))\r\n",
        "    return \"\".join(final_text)"
      ],
      "execution_count": 6,
      "outputs": []
    },
    {
      "cell_type": "markdown",
      "metadata": {
        "id": "CZ9hoCp3mvfi"
      },
      "source": [
        "## Remove stopwords and punctuation and build vocabulary"
      ]
    },
    {
      "cell_type": "code",
      "metadata": {
        "id": "OS5VzZPbpWIl"
      },
      "source": [
        "def split(word): \r\n",
        "    return [char for char in word] \r\n",
        "\r\n",
        "vocab = set()\r\n",
        "\r\n",
        "#Apply function on review column\r\n",
        "for doc in train_data.data:\r\n",
        "  doc = doc.split(' ')\r\n",
        "  d = 0\r\n",
        "  for doc_i in doc:\r\n",
        "    doc_i = remove_stopwords(doc_i)\r\n",
        "    if len(doc_i) < 25:\r\n",
        "      vocab.update(set([doc_i]))"
      ],
      "execution_count": 7,
      "outputs": []
    },
    {
      "cell_type": "code",
      "metadata": {
        "colab": {
          "base_uri": "https://localhost:8080/"
        },
        "id": "LCKVX4wHGriy",
        "outputId": "ad751761-2921-43e4-8c8c-421c48d55eb0"
      },
      "source": [
        "new_vocab = list(vocab)\r\n",
        "print(len(vocab))\r\n",
        "print(new_vocab[:2000])"
      ],
      "execution_count": 27,
      "outputs": [
        {
          "output_type": "stream",
          "text": [
            "255530\n",
            "['', 'bucks', 'Motto', '27695', 'exitingan', 'HackersLines', '60Hz', 'JOV2UPDX5', 'helpOh', 'againThe', 'aliveand', 'weaselwordsto', 'lunchReplyTo', 'Ribbon', 'bengcaewiscedu', 'thatclass', 'usaWhile', 'hubris', 'GRAYSCALE', 'AGL', 'AltheimSubject', 'cit', 'mkaomaceccpurdueedu', 'reviewing', 'landBecause', 'addcsstandacuk', 'above16M', 'builtaround', 'comfortableThese', '2500Story', 'stony', 'antihistamines', 'strappedon', '10K', 'Compulsive', 'outVanbiesbroucks', 'acurracy', '196670', 'combinedor', 'timeNow', 'ReturnPath', 'canWhy', 'dAmbrosio', 'iscruel', 'Khrushchev', 'scarier', 'faithyou', 'LawAre', 'supportingdevelopment', 'exegetical', 'elsesAmir', 'believeIn', 'NUHow', 'refinement', 'thebeam', 'MicrobiologyOSU', 'eds', 'publishedstatistics', 'theperpetrator', 'thecue', 'locationfor', 'Spin', 'jetting', 'viaan', 'repectable', 'kinesis2gif', 'isaround', 'aovaiqubeocunixonca', 'UK', 'PMIO', 'UNIXPCstyle', 'Jurisdiction', 'blabandy', 'DepartmentReplyTo', 'VNET', 'adecisive', 'meArticleID', 'Endurance', 'CureSimple', 'longdissertations', '11943', 'unpredictablyGases', '1185125704514543Le', 'multidisplayon', 'experiencedJoseph', 'nuclearpower', 'Election', 'Aeronautical', '01101001DB', 'Bladerunner', 'Culpepper', 'petehelp', '70Distribution', 'Rebellion1500117North', 'BRAND', 'Jefferson', 'intifada', 'norse', 'somethingunlawful', 'associateswere', 'CGS', 'nofrillsviewer', 'Helsingius', 'Holloway', 'PGPcompatible', 'decription', 'Teleoperation', 'LtdXUseragent', '32At', 'demography', 'astep', 'meCiao', 'groundKoresh', 'SUBSEQUENT', 'cultivated', 'HarrisSubject', 'schoolI', 'MBTI', 'Arkady', 'imageAfter', 'rworeduced', 'ofBoston1800', 'Lengaigne', 'yoderaustinibmcom', 'FEWextremely', 'BulfOrganization', 'mailbouncing', 'openersHas', 'andoutcoached', 'andreassemble', 'sermons', 'externallyAndy', 'ingestion', 'Aerobee', 'wellanyway', 'Sharing', 'quiteplausible', 'X400', 'brutally', 'obtainedwhat', 'Whiraines', 'tempest', '392X11R5', 'cartoonist', 'Aaron', 'helpTNDE7', 'TimesSports', 'didntnail', 'JPLinstruments', 'quebec', 'remotestcontact', 'BBSanon', 'ttys', 'eitherDimtri', 'Magid', 'VIOLATES', 'overrun', 'plates8', 'PLEASE', 'BostonGradeI', 'WhatSo', 'C5L9zs44nworldstdcom', 'megswrite', 'continentOh', 'sezAL', 'humanmorality', 'heartDisclaimer', '140hp', 'threemodes', 'dbxand', 'conferencebased', 'TTTTTTTTTTTTTTT', 'AraratThe', '5spdKeywords', 'talonllnlgovIn', 'roadblocksput', '80Please', 'BZMM6UL', 'ProblemInReplyTo', 'AMI', 'Career', 'whenconvincing', '209963049uupcbfactorycom', 'swooping', 'socculturegreek', 'theyboth', 'Schnitzius', 'writesFirstly', 'Hydromechanic', 'whereyou', 'Jasonits', '330M', '2425197lisas', 'MunichCanada', 'Gaetan', 'alreadyadmit', 'BanksSubject', 'theseThanksjake', 'rod', 'soldiersThey', 'sciimageprocessing', 'inmore', 'Leahy', '4822633', 'milligramsof', 'suspention', 'writeseach', '10401113576104107Larry', 'shouldve', 'Rubin', 'in1988', 'doGod', 'frommounting', '211457', 'optimised', 'laterproduction', 'academiaAs', 'XtVaCreateManagedWidget', 'youdesire', 'scslokkurdextermius', 'Begum', '50MHz', 'objectivevalue', 'Dammiteven', 'headerless', '87QVB386T9J4Z7', 'violenceagainst', '163109', 'thaw', '0122861655', 'tellNB', 'WITHOUTELECTRICITY', 'timeConscience', 'liesAnd', 'perturbationof', '99775', 'Computers', 'Zakat', 'olone', 'andRepublicratsthe', 'shipp', 'blather', 'wellthat', 'trousers', 'blocked', 'rivalries', 'mustX', 'listIf', 'continuedsuggestions', 'LNK', 'provable', 'logarithms', 'Pantera', 'loganlexmarkcomLu', 'fF', 'STATI', 'bizarreidea', 'goesIt', 'positionsReplyTo', 'MehmetBullets', 'mikekavisharumdedu', '192122132130', 'ubvmsdccbuffaloeduIn', 'utilityIt', 'Shell', 'actingso', 'Armenianyoung', 'Lankford', 'Decrypt', 'prefetching', 'hysterectomy', 'Azerbaijanintends', 'Logistics', 'whereknowledge', 'Psmith', '16HiColor', 'forsteering', 'meg4', 'windowsOriginator', 'valuesThere', 'moreX386', 'MPV', 'Leahunisqlraycsutexasedu', 'Ojanen', 'thisWell', 'traffictickets', 'Satruday', 'jobsNancy', 'paschal', 'damageAn', '48121', 'Certificate', 'RosquiAs', 'controllerIve', 'howeverDo', 'Thinglook', 'wasproclaiming', '19233112100', '5412012234', 'Fussell', 'gunsTherefore', 'Morrisperformed', '112113', 'alqiclabscnraincom', 'inconvient', 'problemsReplyTo', 'misunderstand', 'heaventheres', '0FB4A4D5442', 'WAXNewsreader', 'employ', 'initialdisplaytype', 'Ammo', 'meBullock', 'Pasha', 'ISESubject', 'fearof', 'yourscreen', '1Matteau', 'gangof', 'kosher', 'schmuckIn', 'IsraelDistribution', 'butstill', 'valuepointOrganization', '030850', 'HerzegovinaClearly', 'Teaches', 'ENTERTAINMENT', 'itTwo', 'systemLance', 'formerCommunist', 'Onethat', 'ffujitaspsychuiucedu', 'MGA20M', 'cultGive', 'includesample', 'Detroitdoubt', 'illeffects', '4Theres', 'SIGGRAPH93permission', 'Warprecision', 'WinonaYou', 'Drew', 'MCI', 'Ricoh', 'Dickinson', '53Here', 'bottle', 'somesuchWhy', 'orproductive', 'Horror', 'gamelandswhitewater', 'thebuyer', 'declinedepression', '36Toronto', 'altcompacadfreedomnews', 'insolently', 'groupPlease', 'kgof', 'MIDDLE', 'Magick', 'meagabyte', 'Amazing', 'Thisimplies', 'tolegitimately', 'coptelling', 'pubRTraceCheck', 'moistened', 'phraseslist', 'GealowSubject', 'escapebeing', 'whoreally', 'underwear', 'sizedfolded', 'teamsthat', 'humanfamily', 'spinningdescending', 'aswe', 'sometimeshave', 'modemc', '15th', 'architectureFrom', 'centerThis', 'sjwyricklblgov', '2e5', 'NY1986unlike', 'UIMS', 'fixedThe', 'IngebretsenSubject', 'thatwere', 'himCriticisms', 'Rutherfords', 'Cheveldae', 'mbongoucsdeduIn', 'ellisnovagmiedu', 'Movementopen', 'suitor', 'Borella', 'inquisitions', 'theirstandard', 'worldArticleID', 'nowuse', 'Grapevine', 'deterioration', 'nraction0291File', '33710', 'viabilityof', 'moduleAMIPROUIDLL', 'palestinian', 'N2SROR0DSRORTD20DD', 'MorleySubject', 'gaylesbianbisexualas', '13174953732', 'misleadingess', 'UHARPERjakewpiedu', 'niether', 'forcesare', 'neglegence', '9085608635', 'Extended', 'Theyllstatistically', 'filemay', 'Branscomb', 'signOK', 'calTHINKCOMRichard', 'Correspondence', 'versus', 'theirFormatter', '8182465618Nov', 'gel', 'impulseAn', 'sessionXarchie', 'signedoff', '1Ottawa', 'timeSerdar', 'resistorpacks', 'lindaeC4JGLKFxMnetcomcom', 'reasonablepreferably', 'Meteorological', 'Zues', 'rjtappneumannuwaterlooca', 'backrestAny', 'whateverMaltron44', 'cronies', 'CARLSubject', 'smpcercwvuedu', 'steinuwashingtoneduHiI', 'proceedingfrom', '176055', 'AUIS', 'usIm', 'Desiree', 'succeedsNote', 'Ponnapalli', 'desiredexpected', 'Press1990', 'maintainenhance', 'onmayhem', 'discussthis', 'axialtilt', 'burningOrganization', 'godlier', 'humanitarianwithout', 'TinkersEversChance', 'independenceNatural', 'MetzgerSubject', 'LopoDept', 'researchcould', 'newsgroupsplit', 'XtNvisual7', 'databaseword', 'createdequal', 'Gilmourbashing', 'witnessHOWEVERThe', 'Exchanged', 'HendersonNntpPostingHost', 'xap10fonzip', 'Realistically', 'damned', 'OpportunitiesMaple', 'STOPand', 'Naaaah', 'assembledfrom', 'Md', 'UARS', 'thechanged', 'mountainsSource', 'amIn', 'trays', 'Ripken', '4757p', 'ClouseSubject', '62Bug', 'promiscuitylarger', 'carbohydrate', 'infomtacomNon', 'statedby', 'Elm', 'season', 'Congresscritters', 'popularTechnically', 'M11', '72These', 'seriouslysuggesting', 'RAMBO', 'makea', 'EstefanInto', 'splszechuanucsdeduSan', 'oneOrganization', 'clientsxauthgethostc', 'Smashers', '92Replying', 'firstwidget', 'toThanksAdrian', 'Fac', 'restrictthe', 'thisbeast', 'SunOpen', 'seeabove4', '255Make', 'alefty', 'ghbnie', 'benign', 'longersee', 'CISC', 'cameready', 'Left', 'disturbingCall', 'Russia155Armenians', 'headachesAfter', '1915and', '6wing', 'priorX', 'againRemember', 'Wedsay', 'Kennedy', 'chronicliar', 'unitsPerhaps', 'fakerolexs', 'plutos', 'C5sHLJErEtrcamococom', 'pubgnulucid', 'debsvaxcscornelledu', 'onmessages', '3BP6JTH1RIPRB2GC', 'GeneralHarshbarger', 'confusingto', 'considerationsfor', 'Rafik', 'accpeted', 'distrusted', 'neithercriminal', 'tripback', 'oflaw', 'convictedof', '127By', 'continuingeducation', 'subsequent', '16176', 'caresC', 'chancesThere', 'NopeThe', 'sieve', 'Unworthy', 'Samson', 'GND15', 'TwoOrganization', 'wassomehow', 'functionMyWindow', 'Info1', 'MBTs', 'microwaved', 'C4ruo877rapollohpcom', 'mtmurdpsFile', 'sometiming', '563903314', 'gotreligeous', '1098', 'outmoded', '6250', '8All', 'Usenetand', 'writesWatch', '171274000', 'appealedNow', 'evenremotely', 'obediently', 'LR', 'LairSpace', 'militiaIm', 'mMLEs', 'Kimble', 'ofLexanCan', 'feast', 'anotinconsiderable', 'signsprohibiting', 'junaidmonu6ccmonasheduau', 'ftpmetacardcom', 'Reaction', 'essentiallya', 'prefereablyfor', 'US50', 'bo2', 'arelationshipby', 'supprisedyou', 'contrarythe', '041758', 'wmhints', 'operative', 'Clay', '101000', 'Oleg', 'studyin', 'aviduteinhettudelftnl', 'newlyimplemented', 'sewage', '1571828085Lines', 'theftDistribution', '6SHots', 'Skoog', 'Martina', 'roneyselkirksfuca', 'goodthe', 'imagethat', 'collsions', 'substitutioncharacter', '35aas7poCWRUEdu', 'Athena', 'halfheight', 'destabilize', '5GRE', 'WYNKZB02W31FX5PES70VE', 'hallowed', 'Cantrell', 'Chelvadae', '8814', 'giggle', 'steereliot', 'Thumpy', 'lloking', 'Smith10', 'ThicktoThin', '6179443700', 'conditionMust', 'blindLines', 'cavities', 'YLO21AVMHYKD0TGWFTN3NR', 'SandbergLearn', 'Jews10', 'Coincidental', 'ArroganceLines', 'jaworskiSubject', 'genre', 'claimOf', 'floppies1', 'XTerminalswith', 'TERVI', 'baptised', 'undiscussed', 'notcease', 'blend', '284NNTPPostingHost', 'NO2', 'bluegreenin', 'Candelaria', 'HakimActually', 'Ryne', 'PLATESOrganization', 'koresh', 'AustraliaEMAIL', 'somewhatoverpriced', 'WeaverIn', 'Mutlucag', 'freeze', 'barsvelo', '00YFBU', 'roverballistic', 'Hoey', 'accordinglyOf', 'toovercome', 'kilometersawaySY', '0N', 'Articles', 'checksum', 'nannynannybooboo', 'questionMichael', 'mycroftrandorgMay', '19751977', 'LarryThere', 'componentsthey', '5163497669', 'allgirls', 'verdicts', 'PrimeNntpPostingHost', 'aplaster', 'solventitself', 'NEWSPAPER', 'UWI', 'playerMichael', 'wantedLines', 'PrutchiFirst', 'threeforths', 'exhorted', 'chipIs', 'Nakadapnakadaoraclecom', 'Moments', 'Lousy', 'nutritionists', 'ManagerJan', 'workedwith', 'clearto', 'advancedundergrads', 'valuablesRegardless', 'GertJan', 'mightexpect', 'oldJohn', 'Mayors', 'nowonly', 'Sounderaboard', 'standardand', 'cloudsas', 'accelarationDoes', 'steerrh01UUCP', 'Rushed', 'Phibell', 'Igot', '112199293', '013117441Xor', 'hardwaremodems', 'Matson', 'BdynamicNo', 'whatabout', 'onlyfigure', 'go', 'ribKeywords', 'crews', 'weekwhen', 'currentdidrectory', 'middleSo', 'infoGrant', '5191', 'Indicipline', 'withGeorge', 'diedNote', 'theGovernors', 'Rosenberg', '708Ripken', 'inunarmed', '26FOR', 'masterand', 'theirsfor', 'ittangents', '0439', 'wool', '3I', '5vLATCH', 'highlandsnows', 'forgave', 'Datasetsftpmvcom', 'cgdcsberkeleyedu', 'Carl', 'venturescompanies', 'hemissed', 'tangccrpidaorgInreplyto', 'hockeyHmmmmmm', 'Megadrive', 'keithCould', 'actsthat', 'actingas', 'R800GS', 'partion', 'curiousPaul', 'problemwe', 'kickback', 'XtThank', 'roos49OperoniHelsinkiFI', 'Mompilher', 'emailmail', '45Steve', 'zzc2', 'Teachers', 'newness', 'flashers', 'Fermoy', 'yourhome', 'betterBut', 'detailThe', 'wroteBefore', '11W3123', 'pomposity', 'tingling', 'lastword', 'pressingprioritiesIf', 'thoughI', 'neededsetting', '037975', 'redistribution', 'copyThis', 'Averagefielding', 'moaklerromulusrutgersedu', 'designerssplurged', 'filthyrich', 'underscores', 'preferablycapable', 'trustpeopleCATO', 'soare', 'splat', '250300You', 'nemoclipdiafiupmesorg', 'directors', 'valuesSpose', 'Seemed', 'beads', 'foreverand', 'CanadaA', 'whichprovides', 'infringe', 'encourged', 'Bajuk', 'QFO05DT', 'thanprevious', 'MRIsOrganization', 'TurksWithin', 'spysats', 'competingwith', 'firefight', 'inventedand', 'yourefinding', 'Caribbean', 'English', 'afterthree', 'candyArticleID', 'bskendignetcomcom', 'IINntpPostingHost', '19493pittUUCP', '45Amiga', 'comesin', 'tranfer', 'forBusiness', 'passat', 'twothousand', 'thanksJartsu', 'paulpmartzdsdescomEvans', 'Negro', '3235360LaGalarie', 'apartmentsand', 'Esther', 'DocudramasLines', 'compgraphicsXBytes', '0293', 'actuallythe', 'taterific', 'highscale', '18Bill', 'centrally', 'minstellaskkuackr', 'Hospital', 'anywayIt', 'ajustment', 'noncyberspace', 'caliberpower', 'datasheetbook', '3211991', 'peoplecan', '8E', 'portray', 'defenseI', 'Eisler', 'wilder', 'RangersMessier', 'Propulsion', 'XtApp', 'kvkquestorswstratuscom', 'speciesFor', 'is1', 'Canaanites', 'RussottoSubject', '13On', 'urnTwo', 'reabsorbed', 'equipmentsOrganization', 'contrivedinterpretations', 'anevangelist', '3625Houdinis', 'EDP', 'DucatiDavid', 'nos', 'performanceof', 'jfelderlercnasagov', 'FeatureSummary', 'spoofed', 'Exhibition', 'arelegit', 'utilisation', 'apocalypticthinking', 'F80H2L', 'mostabsurd', '10100110B', 'filesim', 'ParabellumOrganization', 'helicopters', '44st', '99510646480143143Wild', 'echoecho', 'andIO', '132569', '977105201748162160Bobs', 'dothisSure', 'reinstalling', 'assaulta', 'jekicfhrbcom', 'recommendand', 'USCan', 'jburkeabacusbatesedu', 'Fully', 'Disappointment', 'figurethat', 'xrayed', 'wheelchair', '12710', '22555VR16', '1942', 'indeedbeseeched', 'toprogramJust', 'todayMore', 'superencrypted', 'dopey', 'affliction', 'diskettebecause', 'Unipalm', 'explanation', '15825', 'RingsBut', 'speciesclosely', 'publicHowever', 'jolteshusc10harvardedu', 'Bashing', 'injured8', 'MJFR7', 'schalem', 'speedloaderin', 'demospubradtarZ', 'DarnellOrganization', '2x4s', '31016', 'aboveA', 'troublemswhen', 'lifeIt', 'botton', 'Ballantine', 'helpsJoseph', 'Gt08', '89S8VS', 'bottlesat', 'oFor', '4BJDJ8B8T5', 'I1802ABC', 'familyof', 'Chryslerso', 'MacSimilarly', 'RushdieFrom', 'allOver', 'useNetI', 'DTCNot', 'inconvenient', 'writesWoops', 'lookWe', 'analyzetranscribe', 'aniversary', 'Uniden', 'regrettable', 'MonoThis', '16', 'gems', 'interestsThe', 'backlogged', 'knock', 'howwould', 'Materials', '16hi', 'writesLike', 'shouldallow', 'forearm', 'DOWN', 'recentlygraded', 'notsay', 'faultand', 'detrimemtal', 'contestThat', 'Reagan1984', 'traditionOrganization', '12Subject', 'itis', 'twelveseconds', 'particulates', 'inflict', 'LORDOrganization', 'JewishI', '1000FF02apCut', 'notso', 'thisinclude', 'PittArticleID', 'totherside', 'enteranother', 'optimist', 'ht120', 'knowswhen', 'Salesmenrecauto', 'GUNTHEY', 'thatisnt', 'CFortran', 'Recording', 'Kimborly', 'laterTurbo', 'informationSo', 'MironCommissioner', '40DOS', 'jumperblock', '464Tatum', 'guaranteesin', 'mightwant', '1Bergevin', 'BirminghamLines', 'failsme', 'UKKilled', 'BThis', '1NFL', 'capadonaSubject', '11b', 'ISAVLB', 'solutionIt', 'shotTeenager', 'keneacsbuedu', 'GOd', 'MAY', 'fissionproducts', 'likeSimilarly', 'emailThanks', 'intactCompiled', 'Kimmell', 'Division350', 'Courant', 'errorYOUR', 'grvgracecrinzYes', 'honorfor', 'listingWith', 'yearsfollowing', '126493', 'MicrowaveLimb', 'hehLines', 'Iwaved', 'FinckeSubject', 'linescores', 'crewserved', '1Carbonneau', 'reasonableIt', 'dodfaq', 'Keysym', 'ohg', 'cycleOthers', 'Overstreet', 'dropas', 'setsthe', 'linkbetween', 'programFriday', 'BensonSubject', '7C6P87VQVD', 'route', 'ScrewtapeThe', 'fragile', 'compperiphsSCSIWith', 'euatnoOrganization', 'MyWinObjMyWinObj', 'touncover', 'decentlyBut', 'dows', 'SAN', 'Impala', 'spirituality', 'muellerkomsystikethzch', 'hoursof', 'wesfboihpcom', 'emailor', 'betweenday', 'interactivemultimedia', 'DECIDEBut', 'papillomavirus', 'offerWeek', 'themPat', 'friendshipSorry', 'dialysis', 'scenethe', 'writesThose', 'alsoLets', 'aaf0ns1cclehighedu', 'thinkingJT', '35Brian', 'Listing6', 'Microchannel', 'myhintheight', 'Corel', 'SabbathWrong', '9XMYEMX', 'includedCHB', 'impressoffensively', 'comingWell', 'techniqueused', 'perspectiveOrganization', 'entersexits', 'disconnect', 'GreeksKK', 'overcomesand', 'momama', 'mostunimproved', 'Skills', 'Y9C2ZJTQ6U20Q4HVVHXVDCEO', 'agentOrganization', 'trappedin', 'spacewalks', 'slc4inscwrueduI', 'ChenSubject', 'writesvechRaMsStateEdu', 'autoexecbatwith', 'dialogue', 'SDSU', 'popuation', 'managersexperience', 'thecomfort', 'thatmust', 'undesirablesat', 'rasterizers', 'US200', 'dontlove', 'Arava', 'Fowlkes', 'encryptedconversations', 'pancreas', 'Sophisticatedencryption', 'pneumatic', 'Monret', 'publicise', 'notclh', 'infoIf', 'correctlyOrganization', '2834AEJ7DCMUVMBITNET', 'DotzlawDept', 'CorpSmall', 'itYoure', 'showtrials', 'keithactrixgennz', '44daviddlonestarutsaedu', 'existsTypical', 'Illtry', 'SERVICE', 'antigay', '4533', 'inningsand', 'GXOXB', 'ithave', 'iskill', 'Wollt', 'SABER', 'FoulstonSubject', 'postpulizia', '99611', 'Alessandro', 'certainlybe', 'lover', 'highprice', 'approvalEvery', 'scooping', 'Version20', 'OE', '1Slave', 'foundry', 'anonymousThere', 'Extropian', '19GreetingsIm', 'writesjimfcenterlinecom', 'somewhatmore', 'orhow', 'accessdigexnetFor', 'processThats', 'iancompsciliverpoolacuk', 'BaldwinDNIBBYunhhunhedu', 'activeingredient', 'asautomatically', 'fromplaces', '0004422', '2285', 'RECIPROCITY', 'Eugenic', 'elseWhat', 'annex', 'lingo', 'isHQed', '64bit', 'upgraded', '72737980', 'U2are', 'burnedout', 'requires', 'theybelong', 'recallsThey', 'perhapsHave', 'goldwinGun', 'thetechnical', 'Simkin', 'Quarterfinals', 'redshifts', 'JohnsonDate', '3000H', 'thisquadrilateral', 'majorsand', '3027738', 'nestorcscmuedu', 'alogirhtm', 'KGXLW2NHOTMX0', 'invective', 'Niether', 'theaerospace', 'hellI', 'PPMGIFTarga', 'infringes', 'hereare', 'personages', 'severalstudies', 'seasonThankfully', 'STeve', 'interrogationsrooms', 'andallowed', 'flight', 'LindberghChamberlin', '25Ive', 'Cambridge', 'retriangulate', 'directory2', 'Brad', 'thesafety', 'USUDFMT6', 'buttonAE', 'appelationThe', 'societyMaybe', 'Themembership', '074924', 'modelThis', 'Constitutionality', 'writesbradclarinetcom', 'Monocrome', 'filemarkhsaturneeduedu', 'postedAlso', 'Rt80', 'andneckrein', 'NASAMSFCLines', 'Hammerl', '3150', 'sidecarA', 'Dhuse', '29A', 'someridiculous', 'jammingand', 'resonate', 'VideoIn', 'helainscwrueduVESA', '4He', '0832', '2710', '244175000', 'illegallyturn', 'evolutiono', 'CDCFile', 'Caesar', '0xd0000d', 'ofgeneralization', 'nsldoecarletonca', 'toagree', 'wkshTree', 'gtoalgtoalcomSubject', 'filesArticleID', 'boxitself', 'runwere', 'databecause', 'shortened', 'hockeyneeds', 'usingTry', 'antenna', 'effectivenessI', 'deluxeamenities', 'p040x30', 'tooNick', 'clandestine', 'FKEYWORD', '1857Its', 'citiesalong', 'outletswith', 'Geke', 'remarkI', 'policyIm', 'BRI', 'C5GIA77x9acsubuffaloedu', 'youhating', 'internetPART', 'ChillJust', 'microamperes', 'thisWe', 'amonggun', 'helpJeff', 'sloancisuabedu', 'ovenGulfizar', 'provincial', 'Tron', 'ConstitutionIts', '15833MIN', 'cheaplyIts', 'libvplot', 'ChristianWell', 'numberIf', 'prospectsAssistant', 'somewhat', 'windows1', 'oleggdcsCSUFresnoEDU', 'prophets', 'skatuscedu', '50NNTPPostingHost', 'withClemens', 'leafand', 'morgues', 'MACHINE', 'anactive', '4OReilly', 'aboutengaging', 'Subcommittee', '175423', 'OMQV', 'OpenGL', 'MacAvenue', 'shootingIn', 'benefitto', 'particularauthority', '12x4', 'sizzling', 'differneceBut', 'Bratislava', 'errorOh', 'playsbetter', 'WindowsA', 'Center21000', 'Laguna', 'Sponge', '23THe', 'motorcycleThe', 'libXmulibXmusoXtName', 'c115110csUAlbertaCA', 'musicMARGARET', 'chastised', 'sprit', 'Coombes', 'theculture', 'willthey', 'revelationsbut', 'ParkCA', 'EMail', 'MITsX11R5', 'personaly', 'notuunetgcx1marka', 'bursitis', 'tune', 'formine', 'Drinking', 'wordlacking', 'surveilance', 'medics', 'mikesasecoUK', 'ERS1dataThe', 'excitatory', 'observationwas', 'xsendevent', 'deadliest', 'outrunning', 'retire', 'ofshit', 'autorespond', 'outDavid', 'verseor', 'playersBobby', 'Medizinische', 'somethingScrub', 'theyescape', 'ofAI', 'evenlose', 'SentsSubject', 'letthem', 'camels', 'mckim', 'Moscow', 'melt', 'charachter', 'variousmilitary', '1940Trials', 'indicate', 'evlerde', 'possibleWhen', 'martin', 'SYSTEMS', 'mowing', '3624287', 'salvation', 'Twins1', 'usesChrist', 'Sta', '43Volume', 'Fax33', 'v16I', 'economyand', 'progress', 'VGAmonitor', 'Barrier', 'Throw', 'Hi', 'fixpat', '52127', 'socmotssNow', 'serum', 'isp', 'relayfor', '197710The', 'PanSubject', 'supportqdeckcom', 'ZWHW3X', 'EASTAnybody', 'reenactments', 'MaxSubject', 'anyoneVoice', 'sparing', 'peelyour', 'himSOMEONE', 'ZoneOrganization', 'TrilingualAnd', 'mt32', 'substancewhich', 'doorA', 'alwaysTwo', 'Grantedthere', 'justcouldnt', 'absorptionlike', 'NCDistribution', 'EASTPACLines', 'plowreining', 'fontpath', '19882031122', 'raytracingWhere', 'pillions', 'getAnd', 'posibility', 'WorksOrganization', 'thereaders', '541969', 'allowyou', 'ofencryptionCould', 'spilled', 'essense', '250Marvel', 'TTFG6', 'INPUTIMAGErb', 'particularlygood', 'moms', 'permitter', 'Very', 'crowd', 'undyed', 'Vga', '9194931609', 'ScienceNNTPPostingHost', 'lineDISPLAYhostname00', '12024561111', 'variousfields', 'YesLets', 'planning', 'Walkers', 'Shipley', 'Tusone', 'AIA', 'noticewhile', 'drainingsomewhere', 'deadThey', 'digress', 'Accounts', 'stall', 'Sectordougbnwuedu', 'keystrokecounting', '0P7ROMYWSZL', 'spikes', 'withhim', 'EuroUK', 'fiveToo', 'pubxv', 'NielsonRoger', 'everyfucking', 'Dianne', 'IFFpicturesincluding', 'patentlawyer', 'someonethinks', 'Padres', 'REGEDIT', 'thesaurusCA', 'NidalThey', 'uptight', 'Telemetry', 'SantaClaus', 'trustCA', 'upChristian', 'cocacola', 'Finlandreligious', 'Rind', 'terrorismBullshit', 'everyperson', 'Paramount', 'mpha', 'Canalwas', 'cheetahcsluiuceduIn', 'TimesA', 'ofRichmond', 'ofinductive', 'NEJMs', 'RosenthalDisclaimer', 'peopleMinister', 'gunmarket', 'Rope', 'Lebedinsky', 'becomethe', 'pollOrganization', '4FG3FGx', 'toshore', 'etcCan', '4072chencitruqozau', '2010NntpPostingHost', 'safetyground', 'lethim', 'protectthemWhat', 'oneSheesh', 'TwoI', 'centerfor', '28110', 'reportWe', 'gamestheyd', 'secrecyimpossible', 'SCORESOrganization', '197', 'theirpart', '1090Non', 'moralityof', 'wegot', 'accelerator', 'reallyhorrible', 'humanmind', 'beenthrown', 'albicans', 'Bastyr', 'exactlya', '3225Whiters', 'KAMterm', 'departmenthead', '1993yes', 'largefanged', 'nutsThe', 'stateadjustment', 'BroadBand', 'ServisSubject', 'improvingIf', 'pstonewellsfcaus83', 'invincible', 'linksfine', 'renderers', 'assThese', 'wellCouldnt', 'timeAgain', 'thatRemember', 'andimplemented', 'incocaine', 'C4wty940umcsanlgov', 'manifestedI', 'AdministrationAnybody', 'playingDavid', 'SloanJohnHenry', 'P34WTM7RG6OG', 'snips', 'isgal', 'ELQL0D', '6172876077', 'aludrausceduHiSince', 'jmullericsunysbedu', 'recordOverall', 'Handgun', 'warmupcool', 'MaximasThe', 'stackers', 'danbshellportalcom', '19451962', 'MasonSubject', 'Atlanticis', 'interrogators', 'severalseason', 'intranasal', 'WLN', 'Fedaral', 'supersecret', 'peopleread', 'resultSecond', 'TORNEYS', 'brethern', '2Fatal', 'mcbayclamcom', 'morecoherent', '15kHz', '2Sep', '2645', 'ourselvesYou', 'OVERCREATION', 'tookme', 'yourMember', 'Moon1327e20', 'whereMaybe', 'whilethen', 'BBSReplyTo', 'theoretically', '1291592', 'emotionally', 'anyplane', '39377', 'CollegeNeXTmail', 'Ellison', 'Wishes', 'Lie', 'POWER', 'orbecause', 'Martel', 'listen', 'predecessorsof', 'BledsoeSubject', 'benchmarkIf', 'homosexualsthe', 'LicensingFile', 'readingby', 'amathurcescwruedu', 'areHow', 'SIMMsHades', 'faceBobby', 'healthinsurance', 'reallyfin', 'andhighlevel', 'Aficionados', 'Sadun', 'DivisionBoston', 'championof', 'stevencmartinSubject', 'wherefeasible', 'siblingsAny', '474389', 'reconciled', 'intifadaInstead', '24XStefan', 'disregardfor', 'belief', 'Press1982', 'resultwill', 'homelands', 'GrouchoRide', 'toensure', 'burnedwould', 'otherwords', 'COMMPCBFAQ', 'theAntiDefamation', 'riggsdescartesetlarmymil', 'interpolation', 'everyresponsible', 'Rates', 'workingand', 'perhapseven', 'julfpenetfi', 'Englands', 'criticize', 'anythingshewould', 'becomea', 'yetgone', 'Support408', 'Apr93', 'ofX', '1994when', '930Cape', 'L40Organization', 'Tutorials', 'Dodgersthirteen', 'Suter', 'remixedin', 'GMTFROM', '93110', '1150122344896256Houdinis', 'democracyis', 'OOK', '8004514487', 'programmableRCA', 'seniorcorporate', 'samhalperincccbbsUUCP', 'BMP', 'otherstuff', '19912', 'Fontenot', 'GreyScale', 'WndProc', 'Quigleys', 'portrayas', 'appeciated', 'controlAssembly', 'Adders', 'Dansk', 'cavalierblkboxcom', 'Expansion', 'seriousness', 'menOnly', 'language', 'coffersare', 'shahpittedu', 'ADSL', 'Dept', 'PUNISHEDBefore', 'youbrilliant', 'extraHas', 'waslater', 'attemptto', 'SIMMsNntpPostingHost', 'Suffolk', 'componentsThe', 'reportersafter', 'XterminalOrganization', 'xa2', 'intelligenceagencies', 'AMIGA2000', 'factsAtty', 'entry0', 'ZionismIf', 'dismissAs', 'ofhomes', 'extinguisherOn', '360floppies', 'Inputs', 'infoscocomSummary', 'popcornIf', 'HolmeOrganization', 'SP1EJ6UQKSJU10P', 'scoretied', 'Palmerston', 'Beirut', '011513', 'educatedPeople', 'ljbartelnaomib23bingrcom', 'ownsand', 'Japanin', 'bloodlust', 'NYCACM', 'eitheralthough', 'forup', 'XDMCP', 'trade', 'werespending', 'finaltests', 'Collision', 'CSI', 'sharing', 'UNCLASSIFIEDThe', 'Anger', 'outputauthoroutput', '66x0', 'planned8', 'magazineEric', 'payon', 'Transportation', 'Sportster', '44NntpPostingHost', 'programcomes', 'haveforgotten', 'Settings', 'SURVIVORSThere', 'wavelength', 'finalsPittsburgh', 'Youth', 'CornelioOrganization', 'FAQaddresses', 'writesdeleted', 'andreturn', 'highlyskewed', 'theserver', '0890', 'deceleration', 'Elbridge', 'firstsentenceI', 'CISCThe', 'tkelderebcee', 'LUDDINGTONSubject', 'fireThis', 'binaryto', 'DisappointmentLos', 'ARose', 'National', 'randall734911319moose', 'algoritmic', 'mucking', 'seenmuch', 'defendthat', 'ideaA', 'erase', 'oDuring', '44XNewsreader', 'csuclacuk', 'nextone', 'Chicago5640', 'XEI4H', 'definitionsMost', 'Systeme', 'JPEGcompressed', '9XTKWMT3K3BPTUMV7RME', 'dozen', 'InterGalactic', '1993Expressing', 'differencesometimes', 'BitNet', 'beimprisoned', 'editionsthat', 'knownentityThe', 'Diamonddropped', 'directives', 'fpu', 'HCIFile', 'carrierstheyre', 'seculat', 'osfSelectWarning', 'directionYeah', 'hereinclude', 'weaponsto', 'hartmanulogicUUCP', 'INTERVIEW', 'thingsbob', 'Protons', 'amortisation', 'lunarsurface', 'longerTo', 'PalmBeachJim', 'Ozzies', '68040s', 'thisThats', 'conferenceFrom', 'thesolar', '3536426', 'hobbiests', '0812AMA', '240SX', 'ADC', 'wingsFeel', 'samesince', 'Mirrors', 'belittling', 'closerto', 'Califcontain', 'TahoeThanksTom', '70x', 'Orselak', 'Modernism', 'Dinh', 'Fornicaliahaveyou', '74HCT', 'Buddhas', 'allLike', 'Anadolu', 'Args', 'STACKS', 'possessedfantastic', 'Treatment', '8HiIam', 'Sponsor', 'becausethat', '5LRGLK3O3GIL60HPCM600F', 'veryordinary', 'Arabiaprohibit', '7178bluecispittedu', 'GenesisMegaDrive', 'airAt', 'ISSNUS', 'BUGUNLERDE', 'prefer', 'Ruotsalainen', 'ken', '12500', 'actuallyhappen', 'bottlerCarderock', 'agendaSen', 'XtAppNextEventtheapp', 'ribbonStuff', 'Theyreon', 'minimizing', 'nicetiesPete', 'aboutMen', 'colormapeg', 'chipsetHWfuncs', 'JeremiahSubject', 'thegarage', 'happensToo', 'forgotwho', 'userinsaneOrganization', 'negotiatedkey', 'Britishambassador', 'reppertstsciedu', 'DellingerComputer', 'operateeven', '1993patients', 'XGANewsSoftware', 'dwarnerscengubcom', 'shotMy', 'jumble', 'theparity', 'Tsillas', 'grantedby', '6191', 'upArticleID', '1Juneau', 'goget', 'asserting', 'ColorMusicalBabes', 'spinoff', 'PROBABILITY', 'thePenguins', 'ILA', 'Solarisas', 'Switchingtransistor', 'atheistsSome', 'BlessFrom', 'ClickTech', 'bothA', 'joedaldfiaaudk', 'Scriptures', 'Koffler', 'inborn', 'conveys', 'inspirationIt', '5756021', 'KingsBasingstoke', 'decades2', '14why', 'thatordered', 'passengerwears', 'BrenerSubject', 'selfknowledge', 'Lawsuit', 'asinineblanket', 'ESPNABC', 'Societal', 'violentlysick', 'turnedoff', 'Neopentecostals', 'Cherry', 'autoinject', 'edubreath', 'wantedAnd', '2601', 'entirelypossible', 'suchkeys', 'KingI', 'Basecant', '38Stephen', 'addressed', 'forsome', '2New', 'activitywould', '3189', 'firedtheir', 'allTesla', 'Especiallyif', 'C5t759DsCwellsfcaus', 'groupjust', 'Languages', 'accusationsand', 'AgainOrganization', 'Fredericks', 'trickle', 'scicrypt3', 'kangaroos', 'sillytoo', 'gradual', 'watersites', 'vendorThere', 'willno', 'LESCNASALaRCLines', 'thebottome', 'unbreakable', 'denomination', 'SkyJack', '649184', 'evangelistChris', 'objectivelydetermine', 'majorlygood', 'apparentcontradictions']\n"
          ],
          "name": "stdout"
        }
      ]
    },
    {
      "cell_type": "markdown",
      "metadata": {
        "id": "HRGoapTcnJcD"
      },
      "source": [
        "## Vectorize documents in training set by TF-IDF with vocab len 2000 words"
      ]
    },
    {
      "cell_type": "code",
      "metadata": {
        "id": "waVdKuxUfrYs"
      },
      "source": [
        "# Builds a dictionary of features and transforms documents to feature vectors and convert our text documents to a\r\n",
        "# matrix of token counts (CountVectorizer)\r\n",
        "count_vect = CountVectorizer(vocabulary=new_vocab)\r\n",
        "X_train_counts = count_vect.fit_transform(train_data.data)\r\n",
        "\r\n",
        "# transform a count matrix to a normalized tf-idf representation (tf-idf transformer)\r\n",
        "tfidf_transformer = TfidfTransformer()\r\n",
        "X_train_tfidf = tfidf_transformer.fit_transform(X_train_counts)"
      ],
      "execution_count": 15,
      "outputs": []
    },
    {
      "cell_type": "code",
      "metadata": {
        "id": "0gMkDcS1n01d",
        "outputId": "be5a21a2-90d1-4e21-9347-e8531bd55af5",
        "colab": {
          "base_uri": "https://localhost:8080/"
        }
      },
      "source": [
        "print(X_train_tfidf.shape)"
      ],
      "execution_count": 16,
      "outputs": [
        {
          "output_type": "stream",
          "text": [
            "(11314, 2000)\n"
          ],
          "name": "stdout"
        }
      ]
    },
    {
      "cell_type": "markdown",
      "metadata": {
        "id": "Ll7uoiKeoBwN"
      },
      "source": [
        "## Create model Naive Bayes for documents classification and training"
      ]
    },
    {
      "cell_type": "code",
      "metadata": {
        "id": "AO7sf_AJm6KD",
        "colab": {
          "base_uri": "https://localhost:8080/"
        },
        "outputId": "0908f14d-d64c-4a19-d54f-721be1fefa11"
      },
      "source": [
        "from sklearn.naive_bayes import MultinomialNB\r\n",
        "\r\n",
        "gnb = MultinomialNB()\r\n",
        "gnb.fit(X_train_tfidf, train_data.target)"
      ],
      "execution_count": 17,
      "outputs": [
        {
          "output_type": "execute_result",
          "data": {
            "text/plain": [
              "MultinomialNB(alpha=1.0, class_prior=None, fit_prior=True)"
            ]
          },
          "metadata": {
            "tags": []
          },
          "execution_count": 17
        }
      ]
    },
    {
      "cell_type": "markdown",
      "metadata": {
        "id": "TMa8k0qEoS7P"
      },
      "source": [
        "## Create KNN model for docs classification and training"
      ]
    },
    {
      "cell_type": "code",
      "metadata": {
        "id": "RufPvTV7oQ5j",
        "outputId": "8eded770-aed6-475c-ba21-9e0a25f3e383",
        "colab": {
          "base_uri": "https://localhost:8080/"
        }
      },
      "source": [
        "knn = KNeighborsClassifier(n_neighbors=7)\r\n",
        "\r\n",
        "# training our classifier ; train_data.target will be having numbers assigned for each category in train data\r\n",
        "knn.fit(X_train_tfidf, train_data.target)"
      ],
      "execution_count": 19,
      "outputs": [
        {
          "output_type": "execute_result",
          "data": {
            "text/plain": [
              "KNeighborsClassifier(algorithm='auto', leaf_size=30, metric='minkowski',\n",
              "                     metric_params=None, n_jobs=None, n_neighbors=7, p=2,\n",
              "                     weights='uniform')"
            ]
          },
          "metadata": {
            "tags": []
          },
          "execution_count": 19
        }
      ]
    },
    {
      "cell_type": "markdown",
      "metadata": {
        "id": "JlOzNxhWomHj"
      },
      "source": [
        "## Test some sentences"
      ]
    },
    {
      "cell_type": "code",
      "metadata": {
        "id": "sAkQwH84kR5W"
      },
      "source": [
        "# Input Data to predict their classes of the given categories\r\n",
        "docs_new = ['I have a NASA spaceship', 'I have a GTX 1050 GPU']\r\n",
        "# building up feature vector of our input\r\n",
        "X_new_counts = count_vect.transform(docs_new)\r\n",
        "# We call transform instead of fit_transform because it's already been fit\r\n",
        "X_new_tfidf = tfidf_transformer.transform(X_new_counts)"
      ],
      "execution_count": 21,
      "outputs": []
    },
    {
      "cell_type": "code",
      "metadata": {
        "colab": {
          "base_uri": "https://localhost:8080/"
        },
        "id": "1PAFe29YkU9c",
        "outputId": "b04df2f4-f5a4-44bb-d048-b98d915ab678"
      },
      "source": [
        "predicted = knn.predict(X_new_tfidf)\r\n",
        "\r\n",
        "for doc, category in zip(docs_new, predicted):\r\n",
        "    print('%r => %s' % (doc, train_data.target_names[category]))"
      ],
      "execution_count": 23,
      "outputs": [
        {
          "output_type": "stream",
          "text": [
            "'I have a NASA spaceship' => alt.atheism\n",
            "'I have a GTX 1050 GPU' => alt.atheism\n"
          ],
          "name": "stdout"
        }
      ]
    },
    {
      "cell_type": "markdown",
      "metadata": {
        "id": "sQOVKqhUo54L"
      },
      "source": [
        "## Test with test set"
      ]
    },
    {
      "cell_type": "code",
      "metadata": {
        "id": "cWjiMC2VkahY",
        "colab": {
          "base_uri": "https://localhost:8080/"
        },
        "outputId": "02c8a7ae-ab37-4067-a589-610e88b89696"
      },
      "source": [
        "text_clf = Pipeline([\r\n",
        "    ('vect', CountVectorizer(vocabulary=new_vocab)),\r\n",
        "    ('tfidf', TfidfTransformer()),\r\n",
        "    ('clf', gnb),\r\n",
        "])\r\n",
        "# Fitting our train data to the pipeline\r\n",
        "text_clf.fit(train_data.data, train_data.target)\r\n",
        "\r\n",
        "# Test data \r\n",
        "test_data = fetch_20newsgroups(subset='test',\r\n",
        "                               categories=categories, shuffle=True, random_state=42)\r\n",
        "docs_test = test_data.data\r\n",
        "# Predicting our test data\r\n",
        "predicted = text_clf.predict(docs_test)\r\n",
        "print('We got an accuracy of',np.mean(predicted == test_data.target)*100, '% over the test data.')"
      ],
      "execution_count": 51,
      "outputs": [
        {
          "output_type": "stream",
          "text": [
            "We got an accuracy of 75.49123738714817 % over the test data.\n"
          ],
          "name": "stdout"
        }
      ]
    },
    {
      "cell_type": "code",
      "metadata": {
        "id": "3yl5abbPpc6j"
      },
      "source": [
        "accuracy = []\r\n",
        "for num_words in range(2000, 255530, 30000):\r\n",
        "  text_clf = Pipeline([\r\n",
        "    ('vect', CountVectorizer(vocabulary=new_vocab[:num_words])),\r\n",
        "    ('tfidf', TfidfTransformer()),\r\n",
        "    ('clf', knn),\r\n",
        "])\r\n",
        "  text_clf.fit(train_data.data, train_data.target)\r\n",
        "  predicted = text_clf.predict(docs_test)\r\n",
        "  accuracy.append(np.mean(predicted == test_data.target)*100)"
      ],
      "execution_count": 28,
      "outputs": []
    },
    {
      "cell_type": "code",
      "metadata": {
        "id": "QAq1E_PCsXiv"
      },
      "source": [
        "accuracy_nb = []\r\n",
        "for num_words in range(2000, 255530, 30000):\r\n",
        "  text_clf = Pipeline([\r\n",
        "    ('vect', CountVectorizer(vocabulary=new_vocab[:num_words])),\r\n",
        "    ('tfidf', TfidfTransformer()),\r\n",
        "    ('clf', gnb),\r\n",
        "])\r\n",
        "  text_clf.fit(train_data.data, train_data.target)\r\n",
        "  predicted = text_clf.predict(docs_test)\r\n",
        "  accuracy_nb.append(np.mean(predicted == test_data.target)*100)"
      ],
      "execution_count": 37,
      "outputs": []
    },
    {
      "cell_type": "code",
      "metadata": {
        "id": "s9SKAjVjqihd"
      },
      "source": [
        "num_word = []\r\n",
        "for num_words in range(2000, 255530, 30000):\r\n",
        "  num_word.append(num_words)"
      ],
      "execution_count": 30,
      "outputs": []
    },
    {
      "cell_type": "markdown",
      "metadata": {
        "id": "fV5trx4my_f_"
      },
      "source": [
        "## Performance of KNN and Naive Bayes depend on vocab length"
      ]
    },
    {
      "cell_type": "code",
      "metadata": {
        "id": "AzErD8hfq27F",
        "outputId": "be46b045-9d99-4da9-9299-6fdeb19ff624",
        "colab": {
          "base_uri": "https://localhost:8080/",
          "height": 325
        }
      },
      "source": [
        "import matplotlib.pyplot as plt\r\n",
        "\r\n",
        "plt.suptitle('Performace with vocabulary len')\r\n",
        "plt.xlabel('Length vocabulary')\r\n",
        "plt.ylabel('Accuracy')\r\n",
        "plt.ylim(0, 100) \r\n",
        "plt.plot(num_word, accuracy, label = 'KNN', color='red')\r\n",
        "plt.plot(num_word, accuracy_nb, label = 'Naive Bayes', color='green')"
      ],
      "execution_count": 50,
      "outputs": [
        {
          "output_type": "execute_result",
          "data": {
            "text/plain": [
              "[<matplotlib.lines.Line2D at 0x7f0a701359e8>]"
            ]
          },
          "metadata": {
            "tags": []
          },
          "execution_count": 50
        },
        {
          "output_type": "display_data",
          "data": {
            "image/png": "[encoded data removed]",
            "text/plain": [
              "<Figure size 432x288 with 1 Axes>"
            ]
          },
          "metadata": {
            "tags": [],
            "needs_background": "light"
          }
        }
      ]
    }
  ]
}