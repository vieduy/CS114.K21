{
  "nbformat": 4,
  "nbformat_minor": 0,
  "metadata": {
    "colab": {
      "name": "Untitled2.ipynb",
      "provenance": [],
      "authorship_tag": "ABX9TyObyz2eLLNbirqD5io7+xBH",
      "include_colab_link": true
    },
    "kernelspec": {
      "name": "python3",
      "display_name": "Python 3"
    }
  },
  "cells": [
    {
      "cell_type": "markdown",
      "metadata": {
        "id": "view-in-github",
        "colab_type": "text"
      },
      "source": [
        "<a href=\"https://colab.research.google.com/github/vieduy/CS114.K21/blob/master/linear_regression.ipynb\" target=\"_parent\"><img src=\"https://colab.research.google.com/assets/colab-badge.svg\" alt=\"Open In Colab\"/></a>"
      ]
    },
    {
      "cell_type": "code",
      "metadata": {
        "id": "1kenPee-Q9Nr",
        "colab_type": "code",
        "colab": {}
      },
      "source": [
        "import pandas as pd\n",
        "import matplotlib.pyplot as plt\n",
        "import random\n",
        "from sklearn.model_selection import train_test_split\n",
        "from sklearn.linear_model import LinearRegression\n",
        "import numpy as np\n",
        "from sklearn.metrics import mean_squared_error, r2_score"
      ],
      "execution_count": 0,
      "outputs": []
    },
    {
      "cell_type": "code",
      "metadata": {
        "id": "sx5jBYiQRcKV",
        "colab_type": "code",
        "colab": {
          "base_uri": "https://localhost:8080/",
          "height": 119
        },
        "outputId": "2af194f2-0cde-4851-e807-0c4046a2edfc"
      },
      "source": [
        "time_df = pd.read_csv('data.csv', names=[\"size\", \"time\"])\n",
        "size = time_df['size'].astype(float)\n",
        "\n",
        "size_n2 = pow(size, 2)\n",
        "size_log = size * np.log2(size)\n",
        "\n",
        "time_df['size_n2'] = size_n2\n",
        "time_df['size_log'] = size_log\n",
        "column_names = ['size', 'size_n2', 'size_log', 'time']\n",
        "pr_df = time_df.reindex(columns=column_names)\n",
        "\n",
        "data = pr_df[['size', 'size_n2', 'size_log']].values\n",
        "labels = pr_df['time'].values\n",
        "print(pr_df.head(5))"
      ],
      "execution_count": 3,
      "outputs": [
        {
          "output_type": "stream",
          "text": [
            "      size       size_n2      size_log      time\n",
            "0  4032139  1.625814e+13  8.847769e+07  1.200580\n",
            "1  2055486  4.225023e+12  4.310570e+07  0.509774\n",
            "2  5626651  3.165920e+13  1.261712e+08  1.476080\n",
            "3    42065  1.769464e+09  6.461324e+05  0.007651\n",
            "4  6297788  3.966213e+13  1.422444e+08  1.661560\n"
          ],
          "name": "stdout"
        }
      ]
    },
    {
      "cell_type": "code",
      "metadata": {
        "id": "evt0qoU2RuO7",
        "colab_type": "code",
        "colab": {
          "base_uri": "https://localhost:8080/",
          "height": 102
        },
        "outputId": "3ba067e2-80f0-4d5e-921c-a713308255a4"
      },
      "source": [
        "# split train-test set\n",
        "X_train, X_test, y_train, y_test = train_test_split(data, labels, test_size=0.2, random_state=0)\n",
        "print(X_test[:5])"
      ],
      "execution_count": 4,
      "outputs": [
        {
          "output_type": "stream",
          "text": [
            "[[9.88879000e+05 9.77881677e+11 1.96939549e+07]\n",
            " [8.23848100e+06 6.78725692e+13 1.89270425e+08]\n",
            " [3.03638000e+06 9.21960350e+12 6.53851668e+07]\n",
            " [8.01902300e+06 6.43047299e+13 1.83916253e+08]\n",
            " [5.35373000e+05 2.86624249e+11 1.01882472e+07]]\n"
          ],
          "name": "stdout"
        }
      ]
    },
    {
      "cell_type": "code",
      "metadata": {
        "id": "DgK9BSCxR12-",
        "colab_type": "code",
        "colab": {
          "base_uri": "https://localhost:8080/",
          "height": 34
        },
        "outputId": "11048fe4-b389-483c-a8ae-42a0b2da0796"
      },
      "source": [
        "# choose model Linearn Regression\n",
        "lire = LinearRegression()\n",
        "lire.fit(X_train, y_train)"
      ],
      "execution_count": 5,
      "outputs": [
        {
          "output_type": "execute_result",
          "data": {
            "text/plain": [
              "LinearRegression(copy_X=True, fit_intercept=True, n_jobs=None, normalize=False)"
            ]
          },
          "metadata": {
            "tags": []
          },
          "execution_count": 5
        }
      ]
    },
    {
      "cell_type": "code",
      "metadata": {
        "id": "yhzId4PpR5Oy",
        "colab_type": "code",
        "colab": {
          "base_uri": "https://localhost:8080/",
          "height": 51
        },
        "outputId": "61f01975-e04c-4574-ecf9-7dccbc178fad"
      },
      "source": [
        "# Predict time\n",
        "y_pred = lire.predict(X_test)\n",
        "print('weight: ', lire.coef_)\n",
        "print('bias: ',lire.intercept_)"
      ],
      "execution_count": 8,
      "outputs": [
        {
          "output_type": "stream",
          "text": [
            "weight:  [ 1.23219058e-08 -1.99182695e-17  1.15762451e-08]\n",
            "bias:  0.0004000125402150445\n"
          ],
          "name": "stdout"
        }
      ]
    },
    {
      "cell_type": "code",
      "metadata": {
        "id": "YdV9UKb8SJJq",
        "colab_type": "code",
        "colab": {
          "base_uri": "https://localhost:8080/",
          "height": 51
        },
        "outputId": "cd24583a-ce39-4dde-c7c3-761bf25c1c74"
      },
      "source": [
        "# Print test error\n",
        "print('Mean squared error: %.2f' % mean_squared_error(y_test, y_pred))\n",
        "# The coefficient of determination: 1 is perfect prediction\n",
        "print('Coefficient of determination: %.2f' % r2_score(y_test, y_pred))"
      ],
      "execution_count": 9,
      "outputs": [
        {
          "output_type": "stream",
          "text": [
            "Mean squared error: 0.00\n",
            "Coefficient of determination: 1.00\n"
          ],
          "name": "stdout"
        }
      ]
    },
    {
      "cell_type": "code",
      "metadata": {
        "id": "lqmiadbYSM67",
        "colab_type": "code",
        "colab": {
          "base_uri": "https://localhost:8080/",
          "height": 295
        },
        "outputId": "08987fe4-16e8-463f-81ac-5c88e1fa4867"
      },
      "source": [
        "# Visualize pred vs true-labels\n",
        "plt.plot(np.arange(0, 100), y_pred[:100], 'r^', np.arange(0, 100), y_test[:100], 'go')\n",
        "plt.title('Visualize predicts and true labels')\n",
        "plt.xlabel('X label')\n",
        "plt.ylabel('Y label')\n",
        "plt.show()"
      ],
      "execution_count": 11,
      "outputs": [
        {
          "output_type": "display_data",
          "data": {
            "image/png": "[encoded data removed]",
            "text/plain": [
              "<Figure size 432x288 with 1 Axes>"
            ]
          },
          "metadata": {
            "tags": [],
            "needs_background": "light"
          }
        }
      ]
    }
  ]
}