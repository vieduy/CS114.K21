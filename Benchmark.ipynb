{
  "nbformat": 4,
  "nbformat_minor": 0,
  "metadata": {
    "colab": {
      "name": "Benchmark.ipynb",
      "provenance": [],
      "collapsed_sections": [],
      "mount_file_id": "1EtJZM1bMpemD8w_t6uLBgtb9YNf1-Oyj",
      "authorship_tag": "ABX9TyP5UV7+c0yY1ll217uvo2q6",
      "include_colab_link": true
    },
    "kernelspec": {
      "name": "python3",
      "display_name": "Python 3"
    },
    "accelerator": "GPU"
  },
  "cells": [
    {
      "cell_type": "markdown",
      "metadata": {
        "id": "view-in-github",
        "colab_type": "text"
      },
      "source": [
        "<a href=\"https://colab.research.google.com/github/vieduy/CS114.K21/blob/master/Benchmark.ipynb\" target=\"_parent\"><img src=\"https://colab.research.google.com/assets/colab-badge.svg\" alt=\"Open In Colab\"/></a>"
      ]
    },
    {
      "cell_type": "code",
      "metadata": {
        "id": "FckG38bFQ5jg",
        "colab_type": "code",
        "colab": {
          "resources": {
            "http://localhost:8080/nbextensions/google.colab/files.js": {
              "data": "Ly8gQ29weXJpZ2h0IDIwMTcgR29vZ2xlIExMQwovLwovLyBMaWNlbnNlZCB1bmRlciB0aGUgQXBhY2hlIExpY2Vuc2UsIFZlcnNpb24gMi4wICh0aGUgIkxpY2Vuc2UiKTsKLy8geW91IG1heSBub3QgdXNlIHRoaXMgZmlsZSBleGNlcHQgaW4gY29tcGxpYW5jZSB3aXRoIHRoZSBMaWNlbnNlLgovLyBZb3UgbWF5IG9idGFpbiBhIGNvcHkgb2YgdGhlIExpY2Vuc2UgYXQKLy8KLy8gICAgICBodHRwOi8vd3d3LmFwYWNoZS5vcmcvbGljZW5zZXMvTElDRU5TRS0yLjAKLy8KLy8gVW5sZXNzIHJlcXVpcmVkIGJ5IGFwcGxpY2FibGUgbGF3IG9yIGFncmVlZCB0byBpbiB3cml0aW5nLCBzb2Z0d2FyZQovLyBkaXN0cmlidXRlZCB1bmRlciB0aGUgTGljZW5zZSBpcyBkaXN0cmlidXRlZCBvbiBhbiAiQVMgSVMiIEJBU0lTLAovLyBXSVRIT1VUIFdBUlJBTlRJRVMgT1IgQ09ORElUSU9OUyBPRiBBTlkgS0lORCwgZWl0aGVyIGV4cHJlc3Mgb3IgaW1wbGllZC4KLy8gU2VlIHRoZSBMaWNlbnNlIGZvciB0aGUgc3BlY2lmaWMgbGFuZ3VhZ2UgZ292ZXJuaW5nIHBlcm1pc3Npb25zIGFuZAovLyBsaW1pdGF0aW9ucyB1bmRlciB0aGUgTGljZW5zZS4KCi8qKgogKiBAZmlsZW92ZXJ2aWV3IEhlbHBlcnMgZm9yIGdvb2dsZS5jb2xhYiBQeXRob24gbW9kdWxlLgogKi8KKGZ1bmN0aW9uKHNjb3BlKSB7CmZ1bmN0aW9uIHNwYW4odGV4dCwgc3R5bGVBdHRyaWJ1dGVzID0ge30pIHsKICBjb25zdCBlbGVtZW50ID0gZG9jdW1lbnQuY3JlYXRlRWxlbWVudCgnc3BhbicpOwogIGVsZW1lbnQudGV4dENvbnRlbnQgPSB0ZXh0OwogIGZvciAoY29uc3Qga2V5IG9mIE9iamVjdC5rZXlzKHN0eWxlQXR0cmlidXRlcykpIHsKICAgIGVsZW1lbnQuc3R5bGVba2V5XSA9IHN0eWxlQXR0cmlidXRlc1trZXldOwogIH0KICByZXR1cm4gZWxlbWVudDsKfQoKLy8gTWF4IG51bWJlciBvZiBieXRlcyB3aGljaCB3aWxsIGJlIHVwbG9hZGVkIGF0IGEgdGltZS4KY29uc3QgTUFYX1BBWUxPQURfU0laRSA9IDEwMCAqIDEwMjQ7CgpmdW5jdGlvbiBfdXBsb2FkRmlsZXMoaW5wdXRJZCwgb3V0cHV0SWQpIHsKICBjb25zdCBzdGVwcyA9IHVwbG9hZEZpbGVzU3RlcChpbnB1dElkLCBvdXRwdXRJZCk7CiAgY29uc3Qgb3V0cHV0RWxlbWVudCA9IGRvY3VtZW50LmdldEVsZW1lbnRCeUlkKG91dHB1dElkKTsKICAvLyBDYWNoZSBzdGVwcyBvbiB0aGUgb3V0cHV0RWxlbWVudCB0byBtYWtlIGl0IGF2YWlsYWJsZSBmb3IgdGhlIG5leHQgY2FsbAogIC8vIHRvIHVwbG9hZEZpbGVzQ29udGludWUgZnJvbSBQeXRob24uCiAgb3V0cHV0RWxlbWVudC5zdGVwcyA9IHN0ZXBzOwoKICByZXR1cm4gX3VwbG9hZEZpbGVzQ29udGludWUob3V0cHV0SWQpOwp9CgovLyBUaGlzIGlzIHJvdWdobHkgYW4gYXN5bmMgZ2VuZXJhdG9yIChub3Qgc3VwcG9ydGVkIGluIHRoZSBicm93c2VyIHlldCksCi8vIHdoZXJlIHRoZXJlIGFyZSBtdWx0aXBsZSBhc3luY2hyb25vdXMgc3RlcHMgYW5kIHRoZSBQeXRob24gc2lkZSBpcyBnb2luZwovLyB0byBwb2xsIGZvciBjb21wbGV0aW9uIG9mIGVhY2ggc3RlcC4KLy8gVGhpcyB1c2VzIGEgUHJvbWlzZSB0byBibG9jayB0aGUgcHl0aG9uIHNpZGUgb24gY29tcGxldGlvbiBvZiBlYWNoIHN0ZXAsCi8vIHRoZW4gcGFzc2VzIHRoZSByZXN1bHQgb2YgdGhlIHByZXZpb3VzIHN0ZXAgYXMgdGhlIGlucHV0IHRvIHRoZSBuZXh0IHN0ZXAuCmZ1bmN0aW9uIF91cGxvYWRGaWxlc0NvbnRpbnVlKG91dHB1dElkKSB7CiAgY29uc3Qgb3V0cHV0RWxlbWVudCA9IGRvY3VtZW50LmdldEVsZW1lbnRCeUlkKG91dHB1dElkKTsKICBjb25zdCBzdGVwcyA9IG91dHB1dEVsZW1lbnQuc3RlcHM7CgogIGNvbnN0IG5leHQgPSBzdGVwcy5uZXh0KG91dHB1dEVsZW1lbnQubGFzdFByb21pc2VWYWx1ZSk7CiAgcmV0dXJuIFByb21pc2UucmVzb2x2ZShuZXh0LnZhbHVlLnByb21pc2UpLnRoZW4oKHZhbHVlKSA9PiB7CiAgICAvLyBDYWNoZSB0aGUgbGFzdCBwcm9taXNlIHZhbHVlIHRvIG1ha2UgaXQgYXZhaWxhYmxlIHRvIHRoZSBuZXh0CiAgICAvLyBzdGVwIG9mIHRoZSBnZW5lcmF0b3IuCiAgICBvdXRwdXRFbGVtZW50Lmxhc3RQcm9taXNlVmFsdWUgPSB2YWx1ZTsKICAgIHJldHVybiBuZXh0LnZhbHVlLnJlc3BvbnNlOwogIH0pOwp9CgovKioKICogR2VuZXJhdG9yIGZ1bmN0aW9uIHdoaWNoIGlzIGNhbGxlZCBiZXR3ZWVuIGVhY2ggYXN5bmMgc3RlcCBvZiB0aGUgdXBsb2FkCiAqIHByb2Nlc3MuCiAqIEBwYXJhbSB7c3RyaW5nfSBpbnB1dElkIEVsZW1lbnQgSUQgb2YgdGhlIGlucHV0IGZpbGUgcGlja2VyIGVsZW1lbnQuCiAqIEBwYXJhbSB7c3RyaW5nfSBvdXRwdXRJZCBFbGVtZW50IElEIG9mIHRoZSBvdXRwdXQgZGlzcGxheS4KICogQHJldHVybiB7IUl0ZXJhYmxlPCFPYmplY3Q+fSBJdGVyYWJsZSBvZiBuZXh0IHN0ZXBzLgogKi8KZnVuY3Rpb24qIHVwbG9hZEZpbGVzU3RlcChpbnB1dElkLCBvdXRwdXRJZCkgewogIGNvbnN0IGlucHV0RWxlbWVudCA9IGRvY3VtZW50LmdldEVsZW1lbnRCeUlkKGlucHV0SWQpOwogIGlucHV0RWxlbWVudC5kaXNhYmxlZCA9IGZhbHNlOwoKICBjb25zdCBvdXRwdXRFbGVtZW50ID0gZG9jdW1lbnQuZ2V0RWxlbWVudEJ5SWQob3V0cHV0SWQpOwogIG91dHB1dEVsZW1lbnQuaW5uZXJIVE1MID0gJyc7CgogIGNvbnN0IHBpY2tlZFByb21pc2UgPSBuZXcgUHJvbWlzZSgocmVzb2x2ZSkgPT4gewogICAgaW5wdXRFbGVtZW50LmFkZEV2ZW50TGlzdGVuZXIoJ2NoYW5nZScsIChlKSA9PiB7CiAgICAgIHJlc29sdmUoZS50YXJnZXQuZmlsZXMpOwogICAgfSk7CiAgfSk7CgogIGNvbnN0IGNhbmNlbCA9IGRvY3VtZW50LmNyZWF0ZUVsZW1lbnQoJ2J1dHRvbicpOwogIGlucHV0RWxlbWVudC5wYXJlbnRFbGVtZW50LmFwcGVuZENoaWxkKGNhbmNlbCk7CiAgY2FuY2VsLnRleHRDb250ZW50ID0gJ0NhbmNlbCB1cGxvYWQnOwogIGNvbnN0IGNhbmNlbFByb21pc2UgPSBuZXcgUHJvbWlzZSgocmVzb2x2ZSkgPT4gewogICAgY2FuY2VsLm9uY2xpY2sgPSAoKSA9PiB7CiAgICAgIHJlc29sdmUobnVsbCk7CiAgICB9OwogIH0pOwoKICAvLyBXYWl0IGZvciB0aGUgdXNlciB0byBwaWNrIHRoZSBmaWxlcy4KICBjb25zdCBmaWxlcyA9IHlpZWxkIHsKICAgIHByb21pc2U6IFByb21pc2UucmFjZShbcGlja2VkUHJvbWlzZSwgY2FuY2VsUHJvbWlzZV0pLAogICAgcmVzcG9uc2U6IHsKICAgICAgYWN0aW9uOiAnc3RhcnRpbmcnLAogICAgfQogIH07CgogIGNhbmNlbC5yZW1vdmUoKTsKCiAgLy8gRGlzYWJsZSB0aGUgaW5wdXQgZWxlbWVudCBzaW5jZSBmdXJ0aGVyIHBpY2tzIGFyZSBub3QgYWxsb3dlZC4KICBpbnB1dEVsZW1lbnQuZGlzYWJsZWQgPSB0cnVlOwoKICBpZiAoIWZpbGVzKSB7CiAgICByZXR1cm4gewogICAgICByZXNwb25zZTogewogICAgICAgIGFjdGlvbjogJ2NvbXBsZXRlJywKICAgICAgfQogICAgfTsKICB9CgogIGZvciAoY29uc3QgZmlsZSBvZiBmaWxlcykgewogICAgY29uc3QgbGkgPSBkb2N1bWVudC5jcmVhdGVFbGVtZW50KCdsaScpOwogICAgbGkuYXBwZW5kKHNwYW4oZmlsZS5uYW1lLCB7Zm9udFdlaWdodDogJ2JvbGQnfSkpOwogICAgbGkuYXBwZW5kKHNwYW4oCiAgICAgICAgYCgke2ZpbGUudHlwZSB8fCAnbi9hJ30pIC0gJHtmaWxlLnNpemV9IGJ5dGVzLCBgICsKICAgICAgICBgbGFzdCBtb2RpZmllZDogJHsKICAgICAgICAgICAgZmlsZS5sYXN0TW9kaWZpZWREYXRlID8gZmlsZS5sYXN0TW9kaWZpZWREYXRlLnRvTG9jYWxlRGF0ZVN0cmluZygpIDoKICAgICAgICAgICAgICAgICAgICAgICAgICAgICAgICAgICAgJ24vYSd9IC0gYCkpOwogICAgY29uc3QgcGVyY2VudCA9IHNwYW4oJzAlIGRvbmUnKTsKICAgIGxpLmFwcGVuZENoaWxkKHBlcmNlbnQpOwoKICAgIG91dHB1dEVsZW1lbnQuYXBwZW5kQ2hpbGQobGkpOwoKICAgIGNvbnN0IGZpbGVEYXRhUHJvbWlzZSA9IG5ldyBQcm9taXNlKChyZXNvbHZlKSA9PiB7CiAgICAgIGNvbnN0IHJlYWRlciA9IG5ldyBGaWxlUmVhZGVyKCk7CiAgICAgIHJlYWRlci5vbmxvYWQgPSAoZSkgPT4gewogICAgICAgIHJlc29sdmUoZS50YXJnZXQucmVzdWx0KTsKICAgICAgfTsKICAgICAgcmVhZGVyLnJlYWRBc0FycmF5QnVmZmVyKGZpbGUpOwogICAgfSk7CiAgICAvLyBXYWl0IGZvciB0aGUgZGF0YSB0byBiZSByZWFkeS4KICAgIGxldCBmaWxlRGF0YSA9IHlpZWxkIHsKICAgICAgcHJvbWlzZTogZmlsZURhdGFQcm9taXNlLAogICAgICByZXNwb25zZTogewogICAgICAgIGFjdGlvbjogJ2NvbnRpbnVlJywKICAgICAgfQogICAgfTsKCiAgICAvLyBVc2UgYSBjaHVua2VkIHNlbmRpbmcgdG8gYXZvaWQgbWVzc2FnZSBzaXplIGxpbWl0cy4gU2VlIGIvNjIxMTU2NjAuCiAgICBsZXQgcG9zaXRpb24gPSAwOwogICAgd2hpbGUgKHBvc2l0aW9uIDwgZmlsZURhdGEuYnl0ZUxlbmd0aCkgewogICAgICBjb25zdCBsZW5ndGggPSBNYXRoLm1pbihmaWxlRGF0YS5ieXRlTGVuZ3RoIC0gcG9zaXRpb24sIE1BWF9QQVlMT0FEX1NJWkUpOwogICAgICBjb25zdCBjaHVuayA9IG5ldyBVaW50OEFycmF5KGZpbGVEYXRhLCBwb3NpdGlvbiwgbGVuZ3RoKTsKICAgICAgcG9zaXRpb24gKz0gbGVuZ3RoOwoKICAgICAgY29uc3QgYmFzZTY0ID0gYnRvYShTdHJpbmcuZnJvbUNoYXJDb2RlLmFwcGx5KG51bGwsIGNodW5rKSk7CiAgICAgIHlpZWxkIHsKICAgICAgICByZXNwb25zZTogewogICAgICAgICAgYWN0aW9uOiAnYXBwZW5kJywKICAgICAgICAgIGZpbGU6IGZpbGUubmFtZSwKICAgICAgICAgIGRhdGE6IGJhc2U2NCwKICAgICAgICB9LAogICAgICB9OwogICAgICBwZXJjZW50LnRleHRDb250ZW50ID0KICAgICAgICAgIGAke01hdGgucm91bmQoKHBvc2l0aW9uIC8gZmlsZURhdGEuYnl0ZUxlbmd0aCkgKiAxMDApfSUgZG9uZWA7CiAgICB9CiAgfQoKICAvLyBBbGwgZG9uZS4KICB5aWVsZCB7CiAgICByZXNwb25zZTogewogICAgICBhY3Rpb246ICdjb21wbGV0ZScsCiAgICB9CiAgfTsKfQoKc2NvcGUuZ29vZ2xlID0gc2NvcGUuZ29vZ2xlIHx8IHt9OwpzY29wZS5nb29nbGUuY29sYWIgPSBzY29wZS5nb29nbGUuY29sYWIgfHwge307CnNjb3BlLmdvb2dsZS5jb2xhYi5fZmlsZXMgPSB7CiAgX3VwbG9hZEZpbGVzLAogIF91cGxvYWRGaWxlc0NvbnRpbnVlLAp9Owp9KShzZWxmKTsK",
              "ok": true,
              "headers": [
                [
                  "content-type",
                  "application/javascript"
                ]
              ],
              "status": 200,
              "status_text": ""
            }
          },
          "base_uri": "https://localhost:8080/",
          "height": 89
        },
        "outputId": "6ead02bc-50ac-4e2d-cf1a-98a64c50eb3c"
      },
      "source": [
        "# Run this cell and select the kaggle.json file downloaded\n",
        "# from the Kaggle account settings page.\n",
        "from google.colab import files\n",
        "files.upload()"
      ],
      "execution_count": 1,
      "outputs": [
        {
          "output_type": "display_data",
          "data": {
            "text/html": [
              "\n",
              "     <input type=\"file\" id=\"files-3a99b646-b87d-41ff-9e59-fe51039c0329\" name=\"files[]\" multiple disabled\n",
              "        style=\"border:none\" />\n",
              "     <output id=\"result-3a99b646-b87d-41ff-9e59-fe51039c0329\">\n",
              "      Upload widget is only available when the cell has been executed in the\n",
              "      current browser session. Please rerun this cell to enable.\n",
              "      </output>\n",
              "      <script src=\"/nbextensions/google.colab/files.js\"></script> "
            ],
            "text/plain": [
              "<IPython.core.display.HTML object>"
            ]
          },
          "metadata": {
            "tags": []
          }
        },
        {
          "output_type": "stream",
          "text": [
            "Saving kaggle.json to kaggle.json\n"
          ],
          "name": "stdout"
        },
        {
          "output_type": "execute_result",
          "data": {
            "text/plain": [
              "{'kaggle.json': b'{\"username\":\"duyhoangvien\",\"key\":\"0952d645a4b4335830e2e94ecdd947d0\"}'}"
            ]
          },
          "metadata": {
            "tags": []
          },
          "execution_count": 1
        }
      ]
    },
    {
      "cell_type": "code",
      "metadata": {
        "id": "DYfDgcSFRNg7",
        "colab_type": "code",
        "colab": {
          "base_uri": "https://localhost:8080/",
          "height": 34
        },
        "outputId": "fec8d3ab-f4fe-45ef-b27c-e3367072ca54"
      },
      "source": [
        "# Let's make sure the kaggle.json file is present.\n",
        "!ls -lha kaggle.json"
      ],
      "execution_count": 2,
      "outputs": [
        {
          "output_type": "stream",
          "text": [
            "-rw-r--r-- 1 root root 68 Jun 24 15:04 kaggle.json\n"
          ],
          "name": "stdout"
        }
      ]
    },
    {
      "cell_type": "code",
      "metadata": {
        "id": "ULa0JwaVRR8U",
        "colab_type": "code",
        "colab": {}
      },
      "source": [
        "# Next, install the Kaggle API client.\n",
        "!pip install -q kaggle"
      ],
      "execution_count": 3,
      "outputs": []
    },
    {
      "cell_type": "code",
      "metadata": {
        "id": "qOLUIZotRVVw",
        "colab_type": "code",
        "colab": {}
      },
      "source": [
        "# The Kaggle API client expects this file to be in ~/.kaggle,\n",
        "# so move it there.\n",
        "!mkdir -p ~/.kaggle\n",
        "!cp kaggle.json ~/.kaggle/\n",
        "\n",
        "# This permissions change avoids a warning on Kaggle tool startup.\n",
        "!chmod 600 ~/.kaggle/kaggle.json"
      ],
      "execution_count": 4,
      "outputs": []
    },
    {
      "cell_type": "code",
      "metadata": {
        "id": "F38zAH7qRZlF",
        "colab_type": "code",
        "colab": {}
      },
      "source": [
        "# List available datasets.\n",
        "!kaggle datasets list"
      ],
      "execution_count": null,
      "outputs": []
    },
    {
      "cell_type": "code",
      "metadata": {
        "id": "AaYBTaIfRcl-",
        "colab_type": "code",
        "colab": {
          "base_uri": "https://localhost:8080/",
          "height": 68
        },
        "outputId": "f431ee8c-0e43-4a70-b183-76a98f1f5b68"
      },
      "source": [
        "!kaggle datasets download -d meowmeowmeowmeowmeow/gtsrb-german-traffic-sign --force"
      ],
      "execution_count": 5,
      "outputs": [
        {
          "output_type": "stream",
          "text": [
            "Downloading gtsrb-german-traffic-sign.zip to /content\n",
            " 99% 603M/612M [00:13<00:00, 44.6MB/s]\n",
            "100% 612M/612M [00:13<00:00, 46.8MB/s]\n"
          ],
          "name": "stdout"
        }
      ]
    },
    {
      "cell_type": "code",
      "metadata": {
        "id": "Ij9mnTzgRjfn",
        "colab_type": "code",
        "colab": {}
      },
      "source": [
        "!unzip gtsrb-german-traffic-sign.zip"
      ],
      "execution_count": null,
      "outputs": []
    },
    {
      "cell_type": "code",
      "metadata": {
        "id": "s4p4Wh9y8Xrp",
        "colab_type": "code",
        "colab": {
          "base_uri": "https://localhost:8080/",
          "height": 34
        },
        "outputId": "088489d6-03fc-46e4-a1d8-2cdc093f35bc"
      },
      "source": [
        "cd drive/My\\ Drive"
      ],
      "execution_count": 7,
      "outputs": [
        {
          "output_type": "stream",
          "text": [
            "/content/drive/My Drive\n"
          ],
          "name": "stdout"
        }
      ]
    },
    {
      "cell_type": "code",
      "metadata": {
        "id": "mYF9MpErOnOK",
        "colab_type": "code",
        "colab": {}
      },
      "source": [
        "import matplotlib\n",
        "\n",
        "# import the necessary packages\n",
        "from scripts.preprocessing.imagetoarraypreprocessor import ImageToArrayPreprocessor\n",
        "from scripts.preprocessing.simplepreprocessor import SimplePreprocessor\n",
        "from scripts.preprocessing.patchpreprocessor import PatchPreprocessor\n",
        "from scripts.preprocessing.meanpreprocessor import MeanPreprocessor\n",
        "from scripts.callbacks.trainingmonitor import TrainingMonitor\n",
        "from scripts.io.hdf5datasetgenerator import HDF5DatasetGenerator\n",
        "from scripts.preprocessing.aspectawarepreprocessor import AspectAwarePreprocessor\n",
        "from scripts.cnn.alexnet import AlexNet\n",
        "from tensorflow.keras.preprocessing.image import ImageDataGenerator\n",
        "from tensorflow.keras.optimizers import Adam\n",
        "from sklearn.preprocessing import LabelEncoder\n",
        "from scripts.io.simpledatasetloader import SimpleDatasetLoader\n",
        "import json\n",
        "import os\n",
        "from imutils import paths\n",
        "import random\n",
        "from sklearn.model_selection import train_test_split\n",
        "import numpy as np"
      ],
      "execution_count": 8,
      "outputs": []
    },
    {
      "cell_type": "code",
      "metadata": {
        "id": "gMMKREnyA65Y",
        "colab_type": "code",
        "colab": {}
      },
      "source": [
        "aap = AspectAwarePreprocessor(64, 64)\n",
        "iap = ImageToArrayPreprocessor()"
      ],
      "execution_count": null,
      "outputs": []
    },
    {
      "cell_type": "code",
      "metadata": {
        "id": "5-i7KlwGBFAa",
        "colab_type": "code",
        "colab": {
          "base_uri": "https://localhost:8080/",
          "height": 1000
        },
        "outputId": "7c74e2db-3141-46d1-a305-f4df5d13f44b"
      },
      "source": [
        "imagePaths = list(paths.list_images('../../Train'))\n",
        "random.shuffle(imagePaths)\n",
        "trainPaths = imagePaths[:31368]\n",
        "testPaths = imagePaths[31368:]\n",
        "length_train = len(trainPaths)\n",
        "length_test = len(testPaths)\n",
        "sdl = SimpleDatasetLoader(preprocessors=[])\n",
        "(trainX, trainY) = sdl.load(trainPaths, verbose=500, length=length_train, name='../../train.hdf5')\n",
        "(testX, testY) = sdl.load(testPaths, verbose=500, length=length_test, name='../../val.hdf5')"
      ],
      "execution_count": 9,
      "outputs": [
        {
          "output_type": "stream",
          "text": [
            "[INFO] processed 500/31368\n",
            "[INFO] processed 1000/31368\n",
            "[INFO] processed 1500/31368\n",
            "[INFO] processed 2000/31368\n",
            "[INFO] processed 2500/31368\n",
            "[INFO] processed 3000/31368\n",
            "[INFO] processed 3500/31368\n",
            "[INFO] processed 4000/31368\n",
            "[INFO] processed 4500/31368\n",
            "[INFO] processed 5000/31368\n",
            "[INFO] processed 5500/31368\n",
            "[INFO] processed 6000/31368\n",
            "[INFO] processed 6500/31368\n",
            "[INFO] processed 7000/31368\n",
            "[INFO] processed 7500/31368\n",
            "[INFO] processed 8000/31368\n",
            "[INFO] processed 8500/31368\n",
            "[INFO] processed 9000/31368\n",
            "[INFO] processed 9500/31368\n",
            "[INFO] processed 10000/31368\n",
            "[INFO] processed 10500/31368\n",
            "[INFO] processed 11000/31368\n",
            "[INFO] processed 11500/31368\n",
            "[INFO] processed 12000/31368\n",
            "[INFO] processed 12500/31368\n",
            "[INFO] processed 13000/31368\n",
            "[INFO] processed 13500/31368\n",
            "[INFO] processed 14000/31368\n",
            "[INFO] processed 14500/31368\n",
            "[INFO] processed 15000/31368\n",
            "[INFO] processed 15500/31368\n",
            "[INFO] processed 16000/31368\n",
            "[INFO] processed 16500/31368\n",
            "[INFO] processed 17000/31368\n",
            "[INFO] processed 17500/31368\n",
            "[INFO] processed 18000/31368\n",
            "[INFO] processed 18500/31368\n",
            "[INFO] processed 19000/31368\n",
            "[INFO] processed 19500/31368\n",
            "[INFO] processed 20000/31368\n",
            "[INFO] processed 20500/31368\n",
            "[INFO] processed 21000/31368\n",
            "[INFO] processed 21500/31368\n",
            "[INFO] processed 22000/31368\n",
            "[INFO] processed 22500/31368\n",
            "[INFO] processed 23000/31368\n",
            "[INFO] processed 23500/31368\n",
            "[INFO] processed 24000/31368\n",
            "[INFO] processed 24500/31368\n",
            "[INFO] processed 25000/31368\n",
            "[INFO] processed 25500/31368\n",
            "[INFO] processed 26000/31368\n",
            "[INFO] processed 26500/31368\n",
            "[INFO] processed 27000/31368\n",
            "[INFO] processed 27500/31368\n",
            "[INFO] processed 28000/31368\n",
            "[INFO] processed 28500/31368\n",
            "[INFO] processed 29000/31368\n",
            "[INFO] processed 29500/31368\n",
            "[INFO] processed 30000/31368\n",
            "[INFO] processed 30500/31368\n",
            "[INFO] processed 31000/31368\n",
            "[INFO] processed 500/7841\n",
            "[INFO] processed 1000/7841\n",
            "[INFO] processed 1500/7841\n",
            "[INFO] processed 2000/7841\n",
            "[INFO] processed 2500/7841\n",
            "[INFO] processed 3000/7841\n",
            "[INFO] processed 3500/7841\n",
            "[INFO] processed 4000/7841\n",
            "[INFO] processed 4500/7841\n",
            "[INFO] processed 5000/7841\n",
            "[INFO] processed 5500/7841\n",
            "[INFO] processed 6000/7841\n",
            "[INFO] processed 6500/7841\n",
            "[INFO] processed 7000/7841\n",
            "[INFO] processed 7500/7841\n"
          ],
          "name": "stdout"
        }
      ]
    },
    {
      "cell_type": "code",
      "metadata": {
        "id": "2Bhf18tqmWho",
        "colab_type": "code",
        "colab": {}
      },
      "source": [
        "from sklearn.preprocessing import LabelBinarizer\n",
        "\n",
        "# convert the labels from integers to vectors\n",
        "trainX = trainX.astype(\"float\") / 255.0\n",
        "testX = testX.astype(\"float\") / 255.0\n",
        "\n",
        "trainY = LabelBinarizer().fit_transform(trainY)\n",
        "testY = LabelBinarizer().fit_transform(testY)"
      ],
      "execution_count": 10,
      "outputs": []
    },
    {
      "cell_type": "code",
      "metadata": {
        "id": "pjxsCrUrazIw",
        "colab_type": "code",
        "colab": {}
      },
      "source": [
        "from sklearn.preprocessing import LabelBinarizer\n",
        "import h5py\n",
        "\n",
        "db = h5py.File('../../train.hdf5', 'r')\n",
        "trainX = np.array(db[\"images\"])\n",
        "trainY = np.array(db[\"labels\"])"
      ],
      "execution_count": 5,
      "outputs": []
    },
    {
      "cell_type": "code",
      "metadata": {
        "id": "YM7jReXJbrnb",
        "colab_type": "code",
        "colab": {}
      },
      "source": [
        "db_val = h5py.File('../../val.hdf5', 'r')\n",
        "testX = np.array(db[\"images\"])\n",
        "testY = np.array(db[\"labels\"])"
      ],
      "execution_count": 6,
      "outputs": []
    },
    {
      "cell_type": "code",
      "metadata": {
        "id": "vT0bfcIvgPMm",
        "colab_type": "code",
        "colab": {}
      },
      "source": [
        "def step_decay(epoch):\n",
        "  # initialize the base initial learning rate, drop factor, and\n",
        "  # epochs to drop every\n",
        "  initAlpha = 5e-4\n",
        "  factor = 0.5\n",
        "  dropEvery = 5\n",
        "\n",
        "  # compute learning rate for the current epoch\n",
        "  alpha = initAlpha * (factor ** np.floor((1 + epoch) / dropEvery))\n",
        "  # return the learning rate\n",
        "  return float(alpha)"
      ],
      "execution_count": null,
      "outputs": []
    },
    {
      "cell_type": "code",
      "metadata": {
        "id": "qyKKQRWKI3_6",
        "colab_type": "code",
        "colab": {
          "base_uri": "https://localhost:8080/",
          "height": 34
        },
        "outputId": "0146bcc5-841c-4053-9ec4-15e3e99a4950"
      },
      "source": [
        "# initialize the optimizer and model\n",
        "from scripts.cnn.alexnet import AlexNet\n",
        "from tensorflow.keras.callbacks import LearningRateScheduler\n",
        "from tensorflow.keras.preprocessing.image import ImageDataGenerator\n",
        "\n",
        "print(\"[INFO] compiling model...\")\n",
        "opt = Adam(lr=1e-4, decay=1e-4 / (10 * 0.5))\n",
        "# model = AlexNet.build(width=64, height=64, depth=3,\n",
        "#   classes=43, reg=0.0002)\n",
        "model.compile(loss=\"categorical_crossentropy\", optimizer=opt,\n",
        "  metrics=[\"accuracy\"])\n",
        "\n",
        "aug = ImageDataGenerator(\n",
        "\trotation_range=10,\n",
        "\tzoom_range=0.15,\n",
        "\twidth_shift_range=0.1,\n",
        "\theight_shift_range=0.1,\n",
        "\tshear_range=0.15,\n",
        "\thorizontal_flip=False,\n",
        "\tvertical_flip=False,\n",
        "\tfill_mode=\"nearest\")"
      ],
      "execution_count": 29,
      "outputs": [
        {
          "output_type": "stream",
          "text": [
            "[INFO] compiling model...\n"
          ],
          "name": "stdout"
        }
      ]
    },
    {
      "cell_type": "code",
      "metadata": {
        "id": "f3SLsqheZHfI",
        "colab_type": "code",
        "colab": {}
      },
      "source": [
        "from tensorflow.keras.callbacks import ModelCheckpoint\n",
        "\n",
        "fname = os.path.sep.join(['output', \"weights-{epoch:03d}-{val_loss:.4f}.hdf5\"])\n",
        "checkpoint = ModelCheckpoint(fname, monitor=\"val_loss\", mode=\"min\", save_best_only=True, verbose=1)\n",
        "figPath = os.path.sep.join(['output', \"{}.png\".format(os.getpid())])\n",
        "jsonPath = os.path.sep.join(['output', \"{}.json\".format(os.getpid())])\n",
        "callbacks = [TrainingMonitor(figPath, jsonPath=jsonPath), checkpoint]"
      ],
      "execution_count": 23,
      "outputs": []
    },
    {
      "cell_type": "code",
      "metadata": {
        "id": "IBjisRjVYJHU",
        "colab_type": "code",
        "colab": {
          "base_uri": "https://localhost:8080/",
          "height": 714
        },
        "outputId": "74510629-eb3b-410d-b8c1-2899f1007c1f"
      },
      "source": [
        "print(\"[INFO] training network...\")\n",
        "H = model.fit(\n",
        "\taug.flow(trainX, trainY, batch_size=128),\n",
        "\tvalidation_data=(testX, testY),\n",
        "\tsteps_per_epoch=trainX.shape[0] // 128,\n",
        "\tepochs=10, verbose=1, callbacks=callbacks)"
      ],
      "execution_count": 30,
      "outputs": [
        {
          "output_type": "stream",
          "text": [
            "[INFO] training network...\n",
            "Epoch 1/10\n",
            "245/245 [==============================] - ETA: 0s - loss: 0.2552 - accuracy: 0.9926\n",
            "Epoch 00001: val_loss improved from 0.24091 to 0.23046, saving model to output/weights-001-0.2305.hdf5\n",
            "245/245 [==============================] - 54s 221ms/step - loss: 0.2552 - accuracy: 0.9926 - val_loss: 0.2305 - val_accuracy: 0.9982\n",
            "Epoch 2/10\n",
            "245/245 [==============================] - ETA: 0s - loss: 0.2446 - accuracy: 0.9930\n",
            "Epoch 00002: val_loss improved from 0.23046 to 0.21876, saving model to output/weights-002-0.2188.hdf5\n",
            "245/245 [==============================] - 54s 221ms/step - loss: 0.2446 - accuracy: 0.9930 - val_loss: 0.2188 - val_accuracy: 0.9994\n",
            "Epoch 3/10\n",
            "245/245 [==============================] - ETA: 0s - loss: 0.2381 - accuracy: 0.9929\n",
            "Epoch 00003: val_loss did not improve from 0.21876\n",
            "245/245 [==============================] - 53s 216ms/step - loss: 0.2381 - accuracy: 0.9929 - val_loss: 0.2203 - val_accuracy: 0.9978\n",
            "Epoch 4/10\n",
            "245/245 [==============================] - ETA: 0s - loss: 0.2375 - accuracy: 0.9924\n",
            "Epoch 00004: val_loss improved from 0.21876 to 0.21845, saving model to output/weights-004-0.2184.hdf5\n",
            "245/245 [==============================] - 53s 216ms/step - loss: 0.2375 - accuracy: 0.9924 - val_loss: 0.2184 - val_accuracy: 0.9985\n",
            "Epoch 5/10\n",
            "245/245 [==============================] - ETA: 0s - loss: 0.2448 - accuracy: 0.9923\n",
            "Epoch 00005: val_loss did not improve from 0.21845\n",
            "245/245 [==============================] - 53s 217ms/step - loss: 0.2448 - accuracy: 0.9923 - val_loss: 0.2507 - val_accuracy: 0.9906\n",
            "Epoch 6/10\n",
            "245/245 [==============================] - ETA: 0s - loss: 0.2384 - accuracy: 0.9933\n",
            "Epoch 00006: val_loss improved from 0.21845 to 0.21374, saving model to output/weights-006-0.2137.hdf5\n",
            "245/245 [==============================] - 52s 211ms/step - loss: 0.2384 - accuracy: 0.9933 - val_loss: 0.2137 - val_accuracy: 0.9991\n",
            "Epoch 7/10\n",
            "245/245 [==============================] - ETA: 0s - loss: 0.2302 - accuracy: 0.9942\n",
            "Epoch 00007: val_loss improved from 0.21374 to 0.20978, saving model to output/weights-007-0.2098.hdf5\n",
            "245/245 [==============================] - 52s 214ms/step - loss: 0.2302 - accuracy: 0.9942 - val_loss: 0.2098 - val_accuracy: 0.9986\n",
            "Epoch 8/10\n",
            "245/245 [==============================] - ETA: 0s - loss: 0.2256 - accuracy: 0.9943\n",
            "Epoch 00008: val_loss did not improve from 0.20978\n",
            "245/245 [==============================] - 51s 210ms/step - loss: 0.2256 - accuracy: 0.9943 - val_loss: 0.2170 - val_accuracy: 0.9963\n",
            "Epoch 9/10\n",
            "245/245 [==============================] - ETA: 0s - loss: 0.2269 - accuracy: 0.9926\n",
            "Epoch 00009: val_loss did not improve from 0.20978\n",
            "245/245 [==============================] - 51s 207ms/step - loss: 0.2269 - accuracy: 0.9926 - val_loss: 0.2222 - val_accuracy: 0.9940\n",
            "Epoch 10/10\n",
            "245/245 [==============================] - ETA: 0s - loss: 0.2239 - accuracy: 0.9931\n",
            "Epoch 00010: val_loss did not improve from 0.20978\n",
            "245/245 [==============================] - 51s 208ms/step - loss: 0.2239 - accuracy: 0.9931 - val_loss: 0.2190 - val_accuracy: 0.9922\n"
          ],
          "name": "stdout"
        }
      ]
    },
    {
      "cell_type": "code",
      "metadata": {
        "id": "VV_q9wehYhjo",
        "colab_type": "code",
        "colab": {
          "base_uri": "https://localhost:8080/",
          "height": 105
        },
        "outputId": "62001292-365c-45ba-80e7-c059a96c3b39"
      },
      "source": [
        "model.save('../../alexnet.model', overwrite=True)"
      ],
      "execution_count": 13,
      "outputs": [
        {
          "output_type": "stream",
          "text": [
            "WARNING:tensorflow:From /usr/local/lib/python3.6/dist-packages/tensorflow/python/ops/resource_variable_ops.py:1817: calling BaseResourceVariable.__init__ (from tensorflow.python.ops.resource_variable_ops) with constraint is deprecated and will be removed in a future version.\n",
            "Instructions for updating:\n",
            "If using Keras pass *_constraint arguments to layers.\n",
            "INFO:tensorflow:Assets written to: ../../alexnet.model/assets\n"
          ],
          "name": "stdout"
        }
      ]
    },
    {
      "cell_type": "code",
      "metadata": {
        "id": "ZUDwDBdKhdsd",
        "colab_type": "code",
        "colab": {}
      },
      "source": [
        "model.load_weights('output/weights-007-0.2098.hdf5')"
      ],
      "execution_count": 31,
      "outputs": []
    },
    {
      "cell_type": "code",
      "metadata": {
        "id": "S38t_OV-BD8G",
        "colab_type": "code",
        "colab": {}
      },
      "source": [
        "from tensorflow.keras.models import load_model\n",
        "\n",
        "print(\"[INFO] loading model...\")\n",
        "model = load_model('../../alexnet_45.model')"
      ],
      "execution_count": null,
      "outputs": []
    },
    {
      "cell_type": "code",
      "metadata": {
        "id": "d_AX--FgBPuy",
        "colab_type": "code",
        "colab": {
          "base_uri": "https://localhost:8080/",
          "height": 136
        },
        "outputId": "7de93ddc-3290-478d-9e9b-c44d799c95d9"
      },
      "source": [
        "from os.path import basename, splitext\n",
        "\n",
        "imagePaths = list((paths.list_images('../../Test')))\n",
        "new_list = [splitext(basename(x))[0] for x in imagePaths]\n",
        "fin_list = list(zip(imagePaths, new_list))\n",
        "fin_list = [x[0] for x in sorted(fin_list,key=lambda x: int(x[1]))]\n",
        "print(fin_list[0])\n",
        "length = len(imagePaths)\n",
        "sdl = SimpleDatasetLoader(preprocessors=[])\n",
        "data = sdl.load_test(fin_list, verbose=2000, length=length)\n",
        "data = data.astype(\"float\") / 255.0"
      ],
      "execution_count": 15,
      "outputs": [
        {
          "output_type": "stream",
          "text": [
            "../../Test/00000.png\n",
            "[INFO] processed 2000/12630\n",
            "[INFO] processed 4000/12630\n",
            "[INFO] processed 6000/12630\n",
            "[INFO] processed 8000/12630\n",
            "[INFO] processed 10000/12630\n",
            "[INFO] processed 12000/12630\n"
          ],
          "name": "stdout"
        }
      ]
    },
    {
      "cell_type": "code",
      "metadata": {
        "id": "xAWYeArxG-VL",
        "colab_type": "code",
        "colab": {}
      },
      "source": [
        "from sklearn.preprocessing import LabelBinarizer\n",
        "import h5py\n",
        "\n",
        "db = h5py.File('../../test.hdf5', 'r')\n",
        "testImages = np.array(db[\"images\"])\n",
        "testImages = testImages.astype('float') / 255.0"
      ],
      "execution_count": 5,
      "outputs": []
    },
    {
      "cell_type": "code",
      "metadata": {
        "id": "SFGM4CQhqVnG",
        "colab_type": "code",
        "colab": {}
      },
      "source": [
        "labelNames = open(\"../../signnames.csv\").read().strip().split(\"\\n\")[1:]\n",
        "labelNames = [l.split(\",\")[1] for l in labelNames]"
      ],
      "execution_count": 16,
      "outputs": []
    },
    {
      "cell_type": "code",
      "metadata": {
        "id": "R7P2yLcO-CXi",
        "colab_type": "code",
        "colab": {}
      },
      "source": [
        "predictions = model.predict(data ,batch_size=128)\n",
        "pred = predictions.argmax(axis=1)"
      ],
      "execution_count": 32,
      "outputs": []
    },
    {
      "cell_type": "code",
      "metadata": {
        "id": "tZs2wp3wHqyC",
        "colab_type": "code",
        "colab": {
          "base_uri": "https://localhost:8080/",
          "height": 34
        },
        "outputId": "3b065d62-205a-4922-df6e-a8a7b9b0779d"
      },
      "source": [
        "import pandas as pd\n",
        "\n",
        "test_df = pd.read_csv('Test.csv')\n",
        "labels = test_df['ClassId'].values\n",
        "print(labels[1000], pred[1000])"
      ],
      "execution_count": 26,
      "outputs": [
        {
          "output_type": "stream",
          "text": [
            "17 17\n"
          ],
          "name": "stdout"
        }
      ]
    },
    {
      "cell_type": "code",
      "metadata": {
        "id": "7LacnXxuII3t",
        "colab_type": "code",
        "colab": {
          "base_uri": "https://localhost:8080/",
          "height": 867
        },
        "outputId": "dacee2e8-5c1f-4456-af96-22f2be5d6b36"
      },
      "source": [
        "from sklearn.metrics import classification_report\n",
        "\n",
        "print(classification_report(labels,\n",
        "  predictions.argmax(axis=1), target_names=labelNames))"
      ],
      "execution_count": 33,
      "outputs": [
        {
          "output_type": "stream",
          "text": [
            "                                                    precision    recall  f1-score   support\n",
            "\n",
            "                              Speed limit (20km/h)       1.00      0.83      0.91        60\n",
            "                              Speed limit (30km/h)       0.99      1.00      1.00       720\n",
            "                              Speed limit (50km/h)       0.99      0.99      0.99       750\n",
            "                              Speed limit (60km/h)       1.00      0.93      0.96       450\n",
            "                              Speed limit (70km/h)       0.98      0.98      0.98       660\n",
            "                              Speed limit (80km/h)       0.92      0.99      0.95       630\n",
            "                       End of speed limit (80km/h)       0.98      0.89      0.93       150\n",
            "                             Speed limit (100km/h)       0.97      1.00      0.98       450\n",
            "                             Speed limit (120km/h)       0.99      0.97      0.98       450\n",
            "                                        No passing       1.00      0.97      0.99       480\n",
            "      No passing for vehicles over 3.5 metric tons       1.00      0.98      0.99       660\n",
            "             Right-of-way at the next intersection       0.97      0.93      0.95       420\n",
            "                                     Priority road       1.00      0.99      0.99       690\n",
            "                                             Yield       1.00      1.00      1.00       720\n",
            "                                              Stop       1.00      1.00      1.00       270\n",
            "                                       No vehicles       1.00      1.00      1.00       210\n",
            "          Vehicles over 3.5 metric tons prohibited       0.96      1.00      0.98       150\n",
            "                                          No entry       1.00      0.99      1.00       360\n",
            "                                   General caution       1.00      0.90      0.95       390\n",
            "                       Dangerous curve to the left       0.98      0.80      0.88        60\n",
            "                      Dangerous curve to the right       0.92      1.00      0.96        90\n",
            "                                      Double curve       0.95      0.87      0.91        90\n",
            "                                        Bumpy road       0.96      0.89      0.93       120\n",
            "                                     Slippery road       0.91      0.97      0.94       150\n",
            "                         Road narrows on the right       0.83      1.00      0.90        90\n",
            "                                         Road work       0.96      0.98      0.97       480\n",
            "                                   Traffic signals       0.95      0.99      0.97       180\n",
            "                                       Pedestrians       0.88      1.00      0.94        60\n",
            "                                 Children crossing       0.99      0.97      0.98       150\n",
            "                                 Bicycles crossing       0.95      0.93      0.94        90\n",
            "                                Beware of ice/snow       0.78      0.95      0.85       150\n",
            "                             Wild animals crossing       0.96      0.98      0.97       270\n",
            "               End of all speed and passing limits       0.98      1.00      0.99        60\n",
            "                                  Turn right ahead       0.99      0.99      0.99       210\n",
            "                                   Turn left ahead       1.00      1.00      1.00       120\n",
            "                                        Ahead only       0.97      1.00      0.98       390\n",
            "                              Go straight or right       0.99      1.00      1.00       120\n",
            "                               Go straight or left       1.00      0.98      0.99        60\n",
            "                                        Keep right       0.99      1.00      1.00       690\n",
            "                                         Keep left       1.00      0.98      0.99        90\n",
            "                              Roundabout mandatory       0.98      0.98      0.98        90\n",
            "                                 End of no passing       1.00      0.95      0.97        60\n",
            "End of no passing by vehicles over 3.5 metric tons       0.95      0.86      0.90        90\n",
            "\n",
            "                                          accuracy                           0.98     12630\n",
            "                                         macro avg       0.97      0.96      0.96     12630\n",
            "                                      weighted avg       0.98      0.98      0.98     12630\n",
            "\n"
          ],
          "name": "stdout"
        }
      ]
    },
    {
      "cell_type": "code",
      "metadata": {
        "id": "hoUcdI-dNTr2",
        "colab_type": "code",
        "colab": {
          "base_uri": "https://localhost:8080/",
          "height": 34
        },
        "outputId": "d2adfa59-79ce-4329-ab07-ef7232e00df1"
      },
      "source": [
        " from sklearn.metrics import accuracy_score\n",
        "\n",
        " print(accuracy_score(labels, pred))"
      ],
      "execution_count": 34,
      "outputs": [
        {
          "output_type": "stream",
          "text": [
            "0.9759303246239113\n"
          ],
          "name": "stdout"
        }
      ]
    },
    {
      "cell_type": "code",
      "metadata": {
        "id": "AWglyUcA-NAy",
        "colab_type": "code",
        "colab": {}
      },
      "source": [
        "import cv2\n",
        "\n",
        "image = cv2.imread('../../40_1.jpg')\n",
        "for p in [aap, iap]:\n",
        "  image = p.preprocess(image)\n",
        "\n",
        "test_data = np.array([image])\n",
        "test_data = test_data.astype('float') / 255.0\n",
        "predict = model.predict(test_data)\n",
        "print(predict.argmax(axis=1))"
      ],
      "execution_count": null,
      "outputs": []
    }
  ]
}