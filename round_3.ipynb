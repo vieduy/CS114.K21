{
  "nbformat": 4,
  "nbformat_minor": 0,
  "metadata": {
    "colab": {
      "name": "Untitled2.ipynb",
      "provenance": [],
      "authorship_tag": "ABX9TyO1PvU0yaVcwC8xS7gBOuni",
      "include_colab_link": true
    },
    "kernelspec": {
      "name": "python3",
      "display_name": "Python 3"
    }
  },
  "cells": [
    {
      "cell_type": "markdown",
      "metadata": {
        "id": "view-in-github",
        "colab_type": "text"
      },
      "source": [
        "<a href=\"https://colab.research.google.com/github/vieduy/CS114.K21/blob/master/round_3.ipynb\" target=\"_parent\"><img src=\"https://colab.research.google.com/assets/colab-badge.svg\" alt=\"Open In Colab\"/></a>"
      ]
    },
    {
      "cell_type": "markdown",
      "metadata": {
        "id": "QPYDnGiEuOU9",
        "colab_type": "text"
      },
      "source": [
        "# **Import các thư viện cần dùng**"
      ]
    },
    {
      "cell_type": "code",
      "metadata": {
        "id": "1kenPee-Q9Nr",
        "colab_type": "code",
        "colab": {}
      },
      "source": [
        "import pandas as pd\n",
        "import matplotlib.pyplot as plt\n",
        "import random\n",
        "from sklearn.model_selection import train_test_split\n",
        "from sklearn.linear_model import LinearRegression\n",
        "import numpy as np\n",
        "from sklearn.metrics import mean_squared_error, r2_score"
      ],
      "execution_count": 0,
      "outputs": []
    },
    {
      "cell_type": "markdown",
      "metadata": {
        "id": "PKlX-WZ4uglY",
        "colab_type": "text"
      },
      "source": [
        "# **Xử lý dữ liệu**\n",
        "# - Lấy dữ liệu trên .txt sau đó lưu vào file .csv rồi upload lên googlecolab\n",
        "# - Đọc file .csv\n",
        "# - Visualize 5 sample đầu tiên\n"
      ]
    },
    {
      "cell_type": "code",
      "metadata": {
        "id": "J4SQ5piNwXJw",
        "colab_type": "code",
        "colab": {
          "base_uri": "https://localhost:8080/",
          "height": 119
        },
        "outputId": "3cd1bc37-c0e1-4108-cd21-0c92ce3fad98"
      },
      "source": [
        "# preparing data\n",
        "# generate more data \n",
        "time_df = pd.read_csv('data_1.csv', names=[\"size\", \"time\"])\n",
        "size = time_df['size'].astype(float)\n",
        "\n",
        "column_names = ['size', 'time']\n",
        "pr_df = time_df.reindex(columns=column_names)\n",
        "\n",
        "data = pr_df[['size']].values\n",
        "labels = pr_df['time'].values\n",
        "print(pr_df.head(5))"
      ],
      "execution_count": 57,
      "outputs": [
        {
          "output_type": "stream",
          "text": [
            "       size     time\n",
            "0  37837612  4.12166\n",
            "1  37395246  3.92089\n",
            "2  36610827  3.21540\n",
            "3  29555651  2.54506\n",
            "4  25928216  2.21831\n"
          ],
          "name": "stdout"
        }
      ]
    },
    {
      "cell_type": "markdown",
      "metadata": {
        "id": "NCP8TcELvOQs",
        "colab_type": "text"
      },
      "source": [
        "# **Chia tập dữ liệu thành hai phần training set và test set**"
      ]
    },
    {
      "cell_type": "code",
      "metadata": {
        "id": "evt0qoU2RuO7",
        "colab_type": "code",
        "outputId": "efd07882-b1f6-4798-b3ba-c4cf43baee09",
        "colab": {
          "base_uri": "https://localhost:8080/",
          "height": 102
        }
      },
      "source": [
        "# split train-test set\n",
        "X_train, X_test, y_train, y_test = train_test_split(data, labels, test_size=0.2, random_state=0)\n",
        "\n",
        "# visualize 5 sample của test set\n",
        "print(X_test[:5])"
      ],
      "execution_count": 58,
      "outputs": [
        {
          "output_type": "stream",
          "text": [
            "[[39027499]\n",
            " [26767181]\n",
            " [36764993]\n",
            " [29287305]\n",
            " [34362186]]\n"
          ],
          "name": "stdout"
        }
      ]
    },
    {
      "cell_type": "markdown",
      "metadata": {
        "id": "4yyCxQs0vdRq",
        "colab_type": "text"
      },
      "source": [
        "# **Chọn model Linear Regression cho bài toán và training model**\n",
        "# - Chọn bằng cách import trong sklearn. Vì đây là bài toán phù hợp với bài toán Linear Regression\n"
      ]
    },
    {
      "cell_type": "code",
      "metadata": {
        "id": "DgK9BSCxR12-",
        "colab_type": "code",
        "outputId": "25f248b2-895a-4fe7-f973-87b9e14dcfe3",
        "colab": {
          "base_uri": "https://localhost:8080/",
          "height": 34
        }
      },
      "source": [
        "# choose model Linearn Regression\n",
        "lire = LinearRegression()\n",
        "\n",
        "# training model...\n",
        "lire.fit(X_train, y_train)"
      ],
      "execution_count": 59,
      "outputs": [
        {
          "output_type": "execute_result",
          "data": {
            "text/plain": [
              "LinearRegression(copy_X=True, fit_intercept=True, n_jobs=None, normalize=False)"
            ]
          },
          "metadata": {
            "tags": []
          },
          "execution_count": 59
        }
      ]
    },
    {
      "cell_type": "markdown",
      "metadata": {
        "id": "G_IcLvXlvyiC",
        "colab_type": "text"
      },
      "source": [
        "# **Dùng model để dự đoán test set**"
      ]
    },
    {
      "cell_type": "code",
      "metadata": {
        "id": "yhzId4PpR5Oy",
        "colab_type": "code",
        "outputId": "1e1aad7d-7886-45c6-bb0b-d28629f2a258",
        "colab": {
          "base_uri": "https://localhost:8080/",
          "height": 51
        }
      },
      "source": [
        "# Predict time\n",
        "y_pred = lire.predict(X_test)\n",
        "\n",
        "# print weight and bias\n",
        "print('weight: ', lire.coef_)\n",
        "print('bias: ',lire.intercept_)"
      ],
      "execution_count": 60,
      "outputs": [
        {
          "output_type": "stream",
          "text": [
            "weight:  [9.27421382e-08]\n",
            "bias:  -0.138566004225388\n"
          ],
          "name": "stdout"
        }
      ]
    },
    {
      "cell_type": "markdown",
      "metadata": {
        "id": "RyqyXTn9wAlJ",
        "colab_type": "text"
      },
      "source": [
        "# **Mean Square Error và R2 error**"
      ]
    },
    {
      "cell_type": "code",
      "metadata": {
        "id": "YdV9UKb8SJJq",
        "colab_type": "code",
        "outputId": "2ae06f01-3bfc-4c51-f4aa-9578cb8228a3",
        "colab": {
          "base_uri": "https://localhost:8080/",
          "height": 68
        }
      },
      "source": [
        "# Print test error\n",
        "print(mean_squared_error(y_test, y_pred))\n",
        "print('Mean squared error: %.2f' % mean_squared_error(y_test, y_pred))\n",
        "\n",
        "# The coefficient of determination: \n",
        "print('Coefficient of determination: %.2f' % r2_score(y_test, y_pred))"
      ],
      "execution_count": 61,
      "outputs": [
        {
          "output_type": "stream",
          "text": [
            "0.0029772611563832685\n",
            "Mean squared error: 0.00\n",
            "Coefficient of determination: 0.99\n"
          ],
          "name": "stdout"
        }
      ]
    },
    {
      "cell_type": "markdown",
      "metadata": {
        "id": "pgdF5qWWxCI-",
        "colab_type": "text"
      },
      "source": [
        "# **Visualize dữ liệu**"
      ]
    },
    {
      "cell_type": "code",
      "metadata": {
        "id": "lqmiadbYSM67",
        "colab_type": "code",
        "outputId": "4c00be99-3a2c-4271-9a2c-4871578cffef",
        "colab": {
          "base_uri": "https://localhost:8080/",
          "height": 295
        }
      },
      "source": [
        "# Visualize pred vs true-labels\n",
        "plt.plot(np.arange(0, 100), y_pred[:100], 'r^', np.arange(0, 100), y_test[:100], 'go')\n",
        "plt.title('Visualize predicts and true labels')\n",
        "plt.xlabel('X label')\n",
        "plt.ylabel('Y label')\n",
        "plt.show()"
      ],
      "execution_count": 20,
      "outputs": [
        {
          "output_type": "display_data",
          "data": {
            "image/png": "[encoded data removed]",
            "text/plain": [
              "<Figure size 432x288 with 1 Axes>"
            ]
          },
          "metadata": {
            "tags": [],
            "needs_background": "light"
          }
        }
      ]
    },
    {
      "cell_type": "markdown",
      "metadata": {
        "id": "G5lPbRQb0wNO",
        "colab_type": "text"
      },
      "source": [
        "# Sau khi chạy model 1 var với dữ liệu mới(data_1.csv) thì ta thấy MSE tăng lên 19 lần sau với dữ liệu cũ(data.csv) (Từ 0.00015229169816456062 -> 0.0029772611563832685)"
      ]
    },
    {
      "cell_type": "markdown",
      "metadata": {
        "id": "B5Eg3lJl1P45",
        "colab_type": "text"
      },
      "source": [
        "# Cho nên model dự đoán trên dữ liệu mới đã tệ hơn. Lý do chính là dữ liệu mới nếu biểu diễn size và time ở data mới thì nó không còn là một đường thẳng. Cho nên nếu dùng 1 features size thì không thể dự đoán chính xác đúng time.\n",
        "# Cho nên ta cần phải xây dựng model mới bằng cách tăng thêm số features.\n",
        "# Ta sẽ tăng thêm 2 features size**2 và size.log(size)"
      ]
    },
    {
      "cell_type": "code",
      "metadata": {
        "id": "A4kBbF_T2C1P",
        "colab_type": "code",
        "colab": {
          "base_uri": "https://localhost:8080/",
          "height": 119
        },
        "outputId": "6ec0a404-63cf-40d4-f8ee-555c2e200bf6"
      },
      "source": [
        "time_df = pd.read_csv('data_1.csv', names=[\"size\", \"time\"])\n",
        "size = time_df['size'].astype(float)\n",
        "\n",
        "size_n2 = pow(size, 2)\n",
        "size_log = size * np.log2(size)\n",
        "\n",
        "time_df['size_n2'] = size_n2\n",
        "time_df['size_log'] = size_log\n",
        "column_names = ['size', 'size_n2', 'size_log', 'time']\n",
        "pr_df = time_df.reindex(columns=column_names)\n",
        "\n",
        "data = pr_df[['size', 'size_n2', 'size_log']].values\n",
        "labels = pr_df['time'].values\n",
        "print(pr_df.head(5))"
      ],
      "execution_count": 40,
      "outputs": [
        {
          "output_type": "stream",
          "text": [
            "       size       size_n2      size_log     time\n",
            "0  37837612  1.431685e+15  9.524982e+08  4.12166\n",
            "1  37395246  1.398404e+15  9.407280e+08  3.92089\n",
            "2  36610827  1.340353e+15  9.198751e+08  3.21540\n",
            "3  29555651  8.735365e+14  7.334805e+08  2.54506\n",
            "4  25928216  6.722724e+14  6.385606e+08  2.21831\n"
          ],
          "name": "stdout"
        }
      ]
    },
    {
      "cell_type": "code",
      "metadata": {
        "id": "BRlBRdyW2L4R",
        "colab_type": "code",
        "colab": {
          "base_uri": "https://localhost:8080/",
          "height": 102
        },
        "outputId": "aabd8489-1fb4-4801-b242-10bd12f27442"
      },
      "source": [
        "# split train-test set\n",
        "X_train, X_test, y_train, y_test = train_test_split(data, labels, test_size=0.2, random_state=0)\n",
        "print(X_test[:5])"
      ],
      "execution_count": 56,
      "outputs": [
        {
          "output_type": "stream",
          "text": [
            "[[3.90274990e+07 1.52314568e+15 9.84194989e+08]\n",
            " [2.67671810e+07 7.16481979e+14 6.60452403e+08]\n",
            " [3.67649930e+07 1.35166471e+15 9.23971531e+08]\n",
            " [2.92873050e+07 8.57746234e+14 7.26435639e+08]\n",
            " [3.43621860e+07 1.18075983e+15 8.60233908e+08]]\n"
          ],
          "name": "stdout"
        }
      ]
    },
    {
      "cell_type": "code",
      "metadata": {
        "id": "d7Xfx0192ORu",
        "colab_type": "code",
        "colab": {
          "base_uri": "https://localhost:8080/",
          "height": 34
        },
        "outputId": "485ce5c1-dfe8-49de-9481-6d33e882d59d"
      },
      "source": [
        "# choose model Linearn Regression\n",
        "lr = LinearRegression()\n",
        "lr.fit(X_train, y_train)"
      ],
      "execution_count": 53,
      "outputs": [
        {
          "output_type": "execute_result",
          "data": {
            "text/plain": [
              "LinearRegression(copy_X=True, fit_intercept=True, n_jobs=None, normalize=False)"
            ]
          },
          "metadata": {
            "tags": []
          },
          "execution_count": 53
        }
      ]
    },
    {
      "cell_type": "code",
      "metadata": {
        "id": "MCb22wqF2SqA",
        "colab_type": "code",
        "colab": {
          "base_uri": "https://localhost:8080/",
          "height": 51
        },
        "outputId": "ba009d92-61f4-43a3-a579-7fdd856ee162"
      },
      "source": [
        "# Predict time\n",
        "y_pred = lr.predict(X_test)\n",
        "print('weight: ', lr.coef_)\n",
        "print('bias: ',lr.intercept_)"
      ],
      "execution_count": 54,
      "outputs": [
        {
          "output_type": "stream",
          "text": [
            "weight:  [ 6.48629771e-07  6.67355823e-16 -2.26893927e-08]\n",
            "bias:  -0.5125548242929181\n"
          ],
          "name": "stdout"
        }
      ]
    },
    {
      "cell_type": "code",
      "metadata": {
        "id": "2Pni0KpX2WlM",
        "colab_type": "code",
        "colab": {
          "base_uri": "https://localhost:8080/",
          "height": 51
        },
        "outputId": "07c20c36-e2f1-4dc4-da9b-982600c3b44f"
      },
      "source": [
        "# Print test error\n",
        "print('Mean squared error:', mean_squared_error(y_test, y_pred))\n",
        "# The coefficient of determination:\n",
        "print('Coefficient of determination: %.2f' % r2_score(y_test, y_pred))"
      ],
      "execution_count": 55,
      "outputs": [
        {
          "output_type": "stream",
          "text": [
            "Mean squared error: 0.002978417253932674\n",
            "Coefficient of determination: 0.99\n"
          ],
          "name": "stdout"
        }
      ]
    },
    {
      "cell_type": "code",
      "metadata": {
        "id": "cYtMpGTT3TKk",
        "colab_type": "code",
        "colab": {
          "base_uri": "https://localhost:8080/",
          "height": 295
        },
        "outputId": "60816c2f-5c43-4b7f-d175-851952a9654b"
      },
      "source": [
        "# Visualize pred vs true-labels\n",
        "plt.plot(np.arange(0, 100), y_pred[:100], 'r^', np.arange(0, 100), y_test[:100], 'go')\n",
        "plt.title('Visualize predicts and true labels')\n",
        "plt.xlabel('X label')\n",
        "plt.ylabel('Y label')\n",
        "plt.show()"
      ],
      "execution_count": 50,
      "outputs": [
        {
          "output_type": "display_data",
          "data": {
            "image/png": "[encoded data removed]",
            "text/plain": [
              "<Figure size 432x288 with 1 Axes>"
            ]
          },
          "metadata": {
            "tags": [],
            "needs_background": "light"
          }
        }
      ]
    }
  ]
}