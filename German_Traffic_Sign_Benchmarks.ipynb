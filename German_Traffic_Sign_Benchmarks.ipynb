{
  "nbformat": 4,
  "nbformat_minor": 0,
  "metadata": {
    "colab": {
      "name": "Benchmark.ipynb",
      "provenance": [],
      "collapsed_sections": [],
      "mount_file_id": "1EtJZM1bMpemD8w_t6uLBgtb9YNf1-Oyj",
      "authorship_tag": "ABX9TyPqsXApLgXQkW62wmZFXP91",
      "include_colab_link": true
    },
    "kernelspec": {
      "name": "python3",
      "display_name": "Python 3"
    },
    "accelerator": "GPU"
  },
  "cells": [
    {
      "cell_type": "markdown",
      "metadata": {
        "id": "view-in-github",
        "colab_type": "text"
      },
      "source": [
        "<a href=\"https://colab.research.google.com/github/vieduy/CS114.K21/blob/master/German_Traffic_Sign_Benchmarks.ipynb\" target=\"_parent\"><img src=\"https://colab.research.google.com/assets/colab-badge.svg\" alt=\"Open In Colab\"/></a>"
      ]
    },
    {
      "cell_type": "code",
      "metadata": {
        "id": "s4p4Wh9y8Xrp",
        "colab_type": "code",
        "outputId": "f61f6cfd-b476-45c3-9438-88e6a96ae947",
        "colab": {
          "base_uri": "https://localhost:8080/",
          "height": 34
        }
      },
      "source": [
        "cd drive/My\\ Drive"
      ],
      "execution_count": 1,
      "outputs": [
        {
          "output_type": "stream",
          "text": [
            "/content/drive/My Drive\n"
          ],
          "name": "stdout"
        }
      ]
    },
    {
      "cell_type": "code",
      "metadata": {
        "id": "4NlDIulJWgwp",
        "colab_type": "code",
        "outputId": "3b280fb1-aafd-4ebc-eb9b-5c31e5548966",
        "colab": {
          "base_uri": "https://localhost:8080/",
          "height": 34
        }
      },
      "source": [
        "cd '..'"
      ],
      "execution_count": 23,
      "outputs": [
        {
          "output_type": "stream",
          "text": [
            "/content\n"
          ],
          "name": "stdout"
        }
      ]
    },
    {
      "cell_type": "code",
      "metadata": {
        "id": "qFg_ges--lRj",
        "colab_type": "code",
        "outputId": "6ae213aa-5618-41b3-ad03-529554f4def6",
        "colab": {
          "base_uri": "https://localhost:8080/",
          "height": 34
        }
      },
      "source": [
        "!ls"
      ],
      "execution_count": 0,
      "outputs": [
        {
          "output_type": "stream",
          "text": [
            "'My Drive'\n"
          ],
          "name": "stdout"
        }
      ]
    },
    {
      "cell_type": "code",
      "metadata": {
        "id": "YQ5Mujdj8mpK",
        "colab_type": "code",
        "outputId": "5b9a86fb-7392-46dc-8370-581f1609ef72",
        "colab": {
          "base_uri": "https://localhost:8080/",
          "height": 180
        }
      },
      "source": [
        "from config import dogs_vs_cats_config as config\n",
        "print(config.NUM_TEST_IMAGES)"
      ],
      "execution_count": 2,
      "outputs": [
        {
          "output_type": "error",
          "ename": "AttributeError",
          "evalue": "ignored",
          "traceback": [
            "\u001b[0;31m---------------------------------------------------------------------------\u001b[0m",
            "\u001b[0;31mAttributeError\u001b[0m                            Traceback (most recent call last)",
            "\u001b[0;32m<ipython-input-2-71cccebc1eac>\u001b[0m in \u001b[0;36m<module>\u001b[0;34m()\u001b[0m\n\u001b[1;32m      1\u001b[0m \u001b[0;32mfrom\u001b[0m \u001b[0mconfig\u001b[0m \u001b[0;32mimport\u001b[0m \u001b[0mdogs_vs_cats_config\u001b[0m \u001b[0;32mas\u001b[0m \u001b[0mconfig\u001b[0m\u001b[0;34m\u001b[0m\u001b[0;34m\u001b[0m\u001b[0m\n\u001b[0;32m----> 2\u001b[0;31m \u001b[0mprint\u001b[0m\u001b[0;34m(\u001b[0m\u001b[0mconfig\u001b[0m\u001b[0;34m.\u001b[0m\u001b[0mNUM_TEST_IMAGES\u001b[0m\u001b[0;34m)\u001b[0m\u001b[0;34m\u001b[0m\u001b[0;34m\u001b[0m\u001b[0m\n\u001b[0m",
            "\u001b[0;31mAttributeError\u001b[0m: module 'config.dogs_vs_cats_config' has no attribute 'NUM_TEST_IMAGES'"
          ]
        }
      ]
    },
    {
      "cell_type": "code",
      "metadata": {
        "id": "mYF9MpErOnOK",
        "colab_type": "code",
        "colab": {}
      },
      "source": [
        "import matplotlib\n",
        "\n",
        "# import the necessary packages\n",
        "from scripts.preprocessing.imagetoarraypreprocessor import ImageToArrayPreprocessor\n",
        "from scripts.preprocessing.simplepreprocessor import SimplePreprocessor\n",
        "from scripts.preprocessing.patchpreprocessor import PatchPreprocessor\n",
        "from scripts.preprocessing.meanpreprocessor import MeanPreprocessor\n",
        "from scripts.callbacks.trainingmonitor import TrainingMonitor\n",
        "from scripts.io.hdf5datasetgenerator import HDF5DatasetGenerator\n",
        "from scripts.preprocessing.aspectawarepreprocessor import AspectAwarePreprocessor\n",
        "from scripts.cnn.alexnet import AlexNet\n",
        "from tensorflow.keras.preprocessing.image import ImageDataGenerator\n",
        "from tensorflow.keras.optimizers import Adam\n",
        "from sklearn.preprocessing import LabelEncoder\n",
        "from scripts.io.simpledatasetloader import SimpleDatasetLoader\n",
        "import json\n",
        "import os\n",
        "from imutils import paths\n",
        "import random\n",
        "from sklearn.model_selection import train_test_split\n",
        "import numpy as np"
      ],
      "execution_count": 0,
      "outputs": []
    },
    {
      "cell_type": "code",
      "metadata": {
        "id": "gMMKREnyA65Y",
        "colab_type": "code",
        "colab": {}
      },
      "source": [
        "aap = AspectAwarePreprocessor(64, 64)\n",
        "iap = ImageToArrayPreprocessor()"
      ],
      "execution_count": 0,
      "outputs": []
    },
    {
      "cell_type": "code",
      "metadata": {
        "id": "FckG38bFQ5jg",
        "colab_type": "code",
        "outputId": "af1bc88f-1ee3-4835-ccf8-47d03dbcc984",
        "colab": {
          "resources": {
            "http://localhost:8080/nbextensions/google.colab/files.js": {
              "data": "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",
              "ok": true,
              "headers": [
                [
                  "content-type",
                  "application/javascript"
                ]
              ],
              "status": 200,
              "status_text": ""
            }
          },
          "base_uri": "https://localhost:8080/",
          "height": 91
        }
      },
      "source": [
        "# Run this cell and select the kaggle.json file downloaded\n",
        "# from the Kaggle account settings page.\n",
        "from google.colab import files\n",
        "files.upload()"
      ],
      "execution_count": 0,
      "outputs": [
        {
          "output_type": "display_data",
          "data": {
            "text/html": [
              "\n",
              "     <input type=\"file\" id=\"files-401b078d-834b-4229-985b-592c89dbbfdd\" name=\"files[]\" multiple disabled />\n",
              "     <output id=\"result-401b078d-834b-4229-985b-592c89dbbfdd\">\n",
              "      Upload widget is only available when the cell has been executed in the\n",
              "      current browser session. Please rerun this cell to enable.\n",
              "      </output>\n",
              "      <script src=\"/nbextensions/google.colab/files.js\"></script> "
            ],
            "text/plain": [
              "<IPython.core.display.HTML object>"
            ]
          },
          "metadata": {
            "tags": []
          }
        },
        {
          "output_type": "stream",
          "text": [
            "Saving kaggle.json to kaggle (2).json\n"
          ],
          "name": "stdout"
        },
        {
          "output_type": "execute_result",
          "data": {
            "text/plain": [
              "{'kaggle.json': b'{\"username\":\"duyhoangvien\",\"key\":\"0952d645a4b4335830e2e94ecdd947d0\"}'}"
            ]
          },
          "metadata": {
            "tags": []
          },
          "execution_count": 4
        }
      ]
    },
    {
      "cell_type": "code",
      "metadata": {
        "id": "DYfDgcSFRNg7",
        "colab_type": "code",
        "outputId": "ec7e1271-49f7-48f0-aade-d7640325cc6c",
        "colab": {
          "base_uri": "https://localhost:8080/",
          "height": 34
        }
      },
      "source": [
        "# Let's make sure the kaggle.json file is present.\n",
        "!ls -lha kaggle.json"
      ],
      "execution_count": 0,
      "outputs": [
        {
          "output_type": "stream",
          "text": [
            "-rw------- 1 root root 68 Jun  9 08:49 kaggle.json\n"
          ],
          "name": "stdout"
        }
      ]
    },
    {
      "cell_type": "code",
      "metadata": {
        "id": "ULa0JwaVRR8U",
        "colab_type": "code",
        "colab": {}
      },
      "source": [
        "# Next, install the Kaggle API client.\n",
        "!pip install -q kaggle"
      ],
      "execution_count": 0,
      "outputs": []
    },
    {
      "cell_type": "code",
      "metadata": {
        "id": "qOLUIZotRVVw",
        "colab_type": "code",
        "colab": {}
      },
      "source": [
        "# The Kaggle API client expects this file to be in ~/.kaggle,\n",
        "# so move it there.\n",
        "!mkdir -p ~/.kaggle\n",
        "!cp kaggle.json ~/.kaggle/\n",
        "\n",
        "# This permissions change avoids a warning on Kaggle tool startup.\n",
        "!chmod 600 ~/.kaggle/kaggle.json"
      ],
      "execution_count": 0,
      "outputs": []
    },
    {
      "cell_type": "code",
      "metadata": {
        "id": "F38zAH7qRZlF",
        "colab_type": "code",
        "colab": {}
      },
      "source": [
        "# List available datasets.\n",
        "!kaggle datasets list"
      ],
      "execution_count": 0,
      "outputs": []
    },
    {
      "cell_type": "code",
      "metadata": {
        "id": "AaYBTaIfRcl-",
        "colab_type": "code",
        "outputId": "bf2cbe73-7945-4c14-ea87-10e6d7cf4754",
        "colab": {
          "base_uri": "https://localhost:8080/",
          "height": 68
        }
      },
      "source": [
        "!kaggle datasets download -d meowmeowmeowmeowmeow/gtsrb-german-traffic-sign --force"
      ],
      "execution_count": 15,
      "outputs": [
        {
          "output_type": "stream",
          "text": [
            "Downloading gtsrb-german-traffic-sign.zip to /\n",
            " 98% 601M/612M [00:08<00:00, 89.2MB/s]\n",
            "100% 612M/612M [00:08<00:00, 75.0MB/s]\n"
          ],
          "name": "stdout"
        }
      ]
    },
    {
      "cell_type": "code",
      "metadata": {
        "id": "Ij9mnTzgRjfn",
        "colab_type": "code",
        "colab": {}
      },
      "source": [
        "!unzip gtsrb-german-traffic-sign.zip"
      ],
      "execution_count": 0,
      "outputs": []
    },
    {
      "cell_type": "code",
      "metadata": {
        "id": "5-i7KlwGBFAa",
        "colab_type": "code",
        "outputId": "ea8622cc-1c3f-4103-dcb3-398e69baf4a1",
        "colab": {
          "base_uri": "https://localhost:8080/",
          "height": 153
        }
      },
      "source": [
        "imagePaths = list(paths.list_images('../../Train'))\n",
        "random.shuffle(imagePaths)\n",
        "length = len(imagePaths)\n",
        "sdl = SimpleDatasetLoader(preprocessors=[aap, iap])\n",
        "(data, labels) = sdl.load(imagePaths, verbose=5000, length=length)\n",
        "data = data.astype(\"float\") / 255.0\n",
        "print(labels)"
      ],
      "execution_count": 29,
      "outputs": [
        {
          "output_type": "stream",
          "text": [
            "[INFO] processed 5000/39209\n",
            "[INFO] processed 10000/39209\n",
            "[INFO] processed 15000/39209\n",
            "[INFO] processed 20000/39209\n",
            "[INFO] processed 25000/39209\n",
            "[INFO] processed 30000/39209\n",
            "[INFO] processed 35000/39209\n",
            "[17 38 35 ... 12 17 36]\n"
          ],
          "name": "stdout"
        }
      ]
    },
    {
      "cell_type": "code",
      "metadata": {
        "id": "8L_PsszIckQC",
        "colab_type": "code",
        "colab": {}
      },
      "source": [
        "from sklearn.preprocessing import LabelBinarizer\n",
        "import h5py\n",
        "\n",
        "db = h5py.File('../../data.hdf5', 'r')\n",
        "trainX = db[\"images\"][:31368]\n",
        "trainY = db[\"labels\"][:31368]\n",
        "testX = db[\"images\"][31368:]\n",
        "testY = db[\"labels\"][31368:]"
      ],
      "execution_count": 0,
      "outputs": []
    },
    {
      "cell_type": "code",
      "metadata": {
        "id": "2Bhf18tqmWho",
        "colab_type": "code",
        "colab": {}
      },
      "source": [
        "# convert the labels from integers to vectors\n",
        "trainY = LabelBinarizer().fit_transform(trainY)\n",
        "testY = LabelBinarizer().fit_transform(testY)"
      ],
      "execution_count": 0,
      "outputs": []
    },
    {
      "cell_type": "code",
      "metadata": {
        "id": "qyKKQRWKI3_6",
        "colab_type": "code",
        "outputId": "3b24b706-7c3a-4e73-98e8-b05d2cfbd022",
        "colab": {
          "base_uri": "https://localhost:8080/",
          "height": 34
        }
      },
      "source": [
        "# initialize the optimizer and model\n",
        "from scripts.cnn.alexnet import AlexNet\n",
        "print(\"[INFO] compiling model...\")\n",
        "opt = Adam(lr=1e-3)\n",
        "model = AlexNet.build(width=64, height=64, depth=3,\n",
        "  classes=43, reg=0.0002)\n",
        "model.compile(loss=\"categorical_crossentropy\", optimizer=opt,\n",
        "  metrics=[\"accuracy\"])"
      ],
      "execution_count": 6,
      "outputs": [
        {
          "output_type": "stream",
          "text": [
            "[INFO] compiling model...\n"
          ],
          "name": "stdout"
        }
      ]
    },
    {
      "cell_type": "code",
      "metadata": {
        "id": "IBjisRjVYJHU",
        "colab_type": "code",
        "outputId": "a32a3d77-14c6-4e9a-c1ec-300ffe1ff5c9",
        "colab": {
          "base_uri": "https://localhost:8080/",
          "height": 1000
        }
      },
      "source": [
        "print(\"[INFO] training network...\")\n",
        "model.fit(trainX, trainY, validation_data=(testX, testY),\n",
        "  batch_size=64, epochs=40, verbose=1)"
      ],
      "execution_count": 7,
      "outputs": [
        {
          "output_type": "stream",
          "text": [
            "[INFO] training network...\n",
            "Epoch 1/40\n",
            "491/491 [==============================] - 10s 20ms/step - loss: 4.6418 - accuracy: 0.2560 - val_loss: 3.9107 - val_accuracy: 0.3471\n",
            "Epoch 2/40\n",
            "491/491 [==============================] - 9s 19ms/step - loss: 2.8817 - accuracy: 0.5556 - val_loss: 2.2722 - val_accuracy: 0.6813\n",
            "Epoch 3/40\n",
            "491/491 [==============================] - 9s 19ms/step - loss: 1.9531 - accuracy: 0.7590 - val_loss: 1.6577 - val_accuracy: 0.8211\n",
            "Epoch 4/40\n",
            "491/491 [==============================] - 9s 19ms/step - loss: 1.6164 - accuracy: 0.8248 - val_loss: 2.2375 - val_accuracy: 0.6614\n",
            "Epoch 5/40\n",
            "491/491 [==============================] - 9s 19ms/step - loss: 1.6180 - accuracy: 0.8416 - val_loss: 1.4460 - val_accuracy: 0.8676\n",
            "Epoch 6/40\n",
            "491/491 [==============================] - 9s 18ms/step - loss: 1.4478 - accuracy: 0.8769 - val_loss: 1.3439 - val_accuracy: 0.8982\n",
            "Epoch 7/40\n",
            "491/491 [==============================] - 9s 18ms/step - loss: 1.7614 - accuracy: 0.8696 - val_loss: 1.3703 - val_accuracy: 0.9293\n",
            "Epoch 8/40\n",
            "491/491 [==============================] - 9s 18ms/step - loss: 1.4744 - accuracy: 0.8972 - val_loss: 1.5833 - val_accuracy: 0.8609\n",
            "Epoch 9/40\n",
            "491/491 [==============================] - 10s 20ms/step - loss: 1.6250 - accuracy: 0.8961 - val_loss: 3.1098 - val_accuracy: 0.5583\n",
            "Epoch 10/40\n",
            "491/491 [==============================] - 10s 20ms/step - loss: 1.7180 - accuracy: 0.8893 - val_loss: 1.4467 - val_accuracy: 0.9251\n",
            "Epoch 11/40\n",
            "491/491 [==============================] - 10s 20ms/step - loss: 1.5089 - accuracy: 0.9161 - val_loss: 1.3957 - val_accuracy: 0.9342\n",
            "Epoch 12/40\n",
            "491/491 [==============================] - 9s 19ms/step - loss: 2.1100 - accuracy: 0.8767 - val_loss: 1.6842 - val_accuracy: 0.9225\n",
            "Epoch 13/40\n",
            "491/491 [==============================] - 10s 19ms/step - loss: 1.5950 - accuracy: 0.9221 - val_loss: 1.7542 - val_accuracy: 0.9114\n",
            "Epoch 14/40\n",
            "491/491 [==============================] - 10s 20ms/step - loss: 1.4757 - accuracy: 0.9290 - val_loss: 1.3695 - val_accuracy: 0.9267\n",
            "Epoch 15/40\n",
            "491/491 [==============================] - 10s 21ms/step - loss: 1.9722 - accuracy: 0.9085 - val_loss: 1.4486 - val_accuracy: 0.9592\n",
            "Epoch 16/40\n",
            "491/491 [==============================] - 9s 19ms/step - loss: 1.5194 - accuracy: 0.9318 - val_loss: 1.7393 - val_accuracy: 0.9012\n",
            "Epoch 17/40\n",
            "491/491 [==============================] - 9s 19ms/step - loss: 1.7225 - accuracy: 0.9234 - val_loss: 1.6208 - val_accuracy: 0.9314\n",
            "Epoch 18/40\n",
            "491/491 [==============================] - 9s 18ms/step - loss: 1.6508 - accuracy: 0.9316 - val_loss: 1.3879 - val_accuracy: 0.9668\n",
            "Epoch 19/40\n",
            "491/491 [==============================] - 9s 18ms/step - loss: 1.4104 - accuracy: 0.9445 - val_loss: 1.5023 - val_accuracy: 0.9207\n",
            "Epoch 20/40\n",
            "491/491 [==============================] - 9s 18ms/step - loss: 1.7022 - accuracy: 0.9314 - val_loss: 1.3056 - val_accuracy: 0.9628\n",
            "Epoch 21/40\n",
            "491/491 [==============================] - 9s 18ms/step - loss: 1.5187 - accuracy: 0.9389 - val_loss: 1.4234 - val_accuracy: 0.9721\n",
            "Epoch 22/40\n",
            "491/491 [==============================] - 9s 18ms/step - loss: 1.4761 - accuracy: 0.9387 - val_loss: 2.3671 - val_accuracy: 0.8615\n",
            "Epoch 23/40\n",
            "491/491 [==============================] - 11s 23ms/step - loss: 1.4473 - accuracy: 0.9424 - val_loss: 1.2564 - val_accuracy: 0.9586\n",
            "Epoch 24/40\n",
            "491/491 [==============================] - 10s 20ms/step - loss: 1.4066 - accuracy: 0.9414 - val_loss: 1.2963 - val_accuracy: 0.9755\n",
            "Epoch 25/40\n",
            "491/491 [==============================] - 10s 19ms/step - loss: 1.3412 - accuracy: 0.9470 - val_loss: 1.1072 - val_accuracy: 0.9742\n",
            "Epoch 26/40\n",
            "491/491 [==============================] - 10s 19ms/step - loss: 1.3468 - accuracy: 0.9488 - val_loss: 1.1666 - val_accuracy: 0.9568\n",
            "Epoch 27/40\n",
            "491/491 [==============================] - 9s 18ms/step - loss: 1.2469 - accuracy: 0.9512 - val_loss: 1.3305 - val_accuracy: 0.9637\n",
            "Epoch 28/40\n",
            "491/491 [==============================] - 9s 18ms/step - loss: 1.4393 - accuracy: 0.9410 - val_loss: 1.2546 - val_accuracy: 0.9680\n",
            "Epoch 29/40\n",
            "491/491 [==============================] - 9s 18ms/step - loss: 1.3263 - accuracy: 0.9479 - val_loss: 1.3817 - val_accuracy: 0.9116\n",
            "Epoch 30/40\n",
            "491/491 [==============================] - 9s 18ms/step - loss: 1.2401 - accuracy: 0.9536 - val_loss: 1.0526 - val_accuracy: 0.9825\n",
            "Epoch 31/40\n",
            "491/491 [==============================] - 9s 18ms/step - loss: 1.2163 - accuracy: 0.9542 - val_loss: 1.0404 - val_accuracy: 0.9832\n",
            "Epoch 32/40\n",
            "491/491 [==============================] - 10s 20ms/step - loss: 1.1064 - accuracy: 0.9548 - val_loss: 1.0347 - val_accuracy: 0.9745\n",
            "Epoch 33/40\n",
            "491/491 [==============================] - 10s 21ms/step - loss: 1.1459 - accuracy: 0.9571 - val_loss: 1.0135 - val_accuracy: 0.9722\n",
            "Epoch 34/40\n",
            "491/491 [==============================] - 10s 20ms/step - loss: 1.2843 - accuracy: 0.9488 - val_loss: 1.1209 - val_accuracy: 0.9478\n",
            "Epoch 35/40\n",
            "491/491 [==============================] - 9s 19ms/step - loss: 1.2083 - accuracy: 0.9533 - val_loss: 1.0240 - val_accuracy: 0.9668\n",
            "Epoch 36/40\n",
            "491/491 [==============================] - 9s 18ms/step - loss: 1.1200 - accuracy: 0.9553 - val_loss: 0.8800 - val_accuracy: 0.9787\n",
            "Epoch 37/40\n",
            "491/491 [==============================] - 9s 18ms/step - loss: 1.0519 - accuracy: 0.9587 - val_loss: 1.0831 - val_accuracy: 0.9398\n",
            "Epoch 38/40\n",
            "491/491 [==============================] - 9s 18ms/step - loss: 0.9872 - accuracy: 0.9596 - val_loss: 0.9626 - val_accuracy: 0.9617\n",
            "Epoch 39/40\n",
            "491/491 [==============================] - 9s 18ms/step - loss: 0.9925 - accuracy: 0.9608 - val_loss: 0.8173 - val_accuracy: 0.9864\n",
            "Epoch 40/40\n",
            "491/491 [==============================] - 9s 18ms/step - loss: 0.9344 - accuracy: 0.9626 - val_loss: 0.8144 - val_accuracy: 0.9846\n"
          ],
          "name": "stdout"
        },
        {
          "output_type": "execute_result",
          "data": {
            "text/plain": [
              "<tensorflow.python.keras.callbacks.History at 0x7ffa8a3889e8>"
            ]
          },
          "metadata": {
            "tags": []
          },
          "execution_count": 7
        }
      ]
    },
    {
      "cell_type": "code",
      "metadata": {
        "id": "VV_q9wehYhjo",
        "colab_type": "code",
        "outputId": "34f25214-6ef1-4995-daef-c8adf870e03f",
        "colab": {
          "base_uri": "https://localhost:8080/",
          "height": 105
        }
      },
      "source": [
        "model.save('../../alexnet.model', overwrite=True)"
      ],
      "execution_count": 8,
      "outputs": [
        {
          "output_type": "stream",
          "text": [
            "WARNING:tensorflow:From /usr/local/lib/python3.6/dist-packages/tensorflow/python/ops/resource_variable_ops.py:1817: calling BaseResourceVariable.__init__ (from tensorflow.python.ops.resource_variable_ops) with constraint is deprecated and will be removed in a future version.\n",
            "Instructions for updating:\n",
            "If using Keras pass *_constraint arguments to layers.\n",
            "INFO:tensorflow:Assets written to: ../../alexnet.model/assets\n"
          ],
          "name": "stdout"
        }
      ]
    },
    {
      "cell_type": "code",
      "metadata": {
        "id": "S38t_OV-BD8G",
        "colab_type": "code",
        "outputId": "0a40fd74-ddf9-48d3-f99d-7667007568ee",
        "colab": {
          "base_uri": "https://localhost:8080/",
          "height": 34
        }
      },
      "source": [
        "from tensorflow.keras.models import load_model\n",
        "\n",
        "print(\"[INFO] loading model...\")\n",
        "model = load_model('../../alexnet.model')"
      ],
      "execution_count": 9,
      "outputs": [
        {
          "output_type": "stream",
          "text": [
            "[INFO] loading model...\n"
          ],
          "name": "stdout"
        }
      ]
    },
    {
      "cell_type": "code",
      "metadata": {
        "id": "d_AX--FgBPuy",
        "colab_type": "code",
        "outputId": "231efc2a-766f-441b-d54b-8bc467f19bcf",
        "colab": {
          "base_uri": "https://localhost:8080/",
          "height": 476
        }
      },
      "source": [
        "from os.path import basename, splitext\n",
        "\n",
        "imagePaths = list((paths.list_images('../../Test')))\n",
        "new_list = [splitext(basename(x))[0] for x in imagePaths]\n",
        "fin_list = list(zip(imagePaths, new_list))\n",
        "fin_list = [x[0] for x in sorted(fin_list,key=lambda x: int(x[1]))]\n",
        "print(fin_list[0])\n",
        "length = len(imagePaths)\n",
        "sdl = SimpleDatasetLoader(preprocessors=[aap, iap])\n",
        "data = sdl.load_test(fin_list, verbose=500, length=length)\n",
        "data = data.astype(\"float\") / 255.0"
      ],
      "execution_count": 10,
      "outputs": [
        {
          "output_type": "stream",
          "text": [
            "../../Test/00000.png\n",
            "[INFO] processed 500/12630\n",
            "[INFO] processed 1000/12630\n",
            "[INFO] processed 1500/12630\n",
            "[INFO] processed 2000/12630\n",
            "[INFO] processed 2500/12630\n",
            "[INFO] processed 3000/12630\n",
            "[INFO] processed 3500/12630\n",
            "[INFO] processed 4000/12630\n",
            "[INFO] processed 4500/12630\n",
            "[INFO] processed 5000/12630\n",
            "[INFO] processed 5500/12630\n",
            "[INFO] processed 6000/12630\n",
            "[INFO] processed 6500/12630\n",
            "[INFO] processed 7000/12630\n",
            "[INFO] processed 7500/12630\n",
            "[INFO] processed 8000/12630\n",
            "[INFO] processed 8500/12630\n",
            "[INFO] processed 9000/12630\n",
            "[INFO] processed 9500/12630\n",
            "[INFO] processed 10000/12630\n",
            "[INFO] processed 10500/12630\n",
            "[INFO] processed 11000/12630\n",
            "[INFO] processed 11500/12630\n",
            "[INFO] processed 12000/12630\n",
            "[INFO] processed 12500/12630\n",
            "12630\n"
          ],
          "name": "stdout"
        }
      ]
    },
    {
      "cell_type": "code",
      "metadata": {
        "id": "xAWYeArxG-VL",
        "colab_type": "code",
        "outputId": "e848fab1-56e0-4406-ee59-b44a1980197d",
        "colab": {
          "base_uri": "https://localhost:8080/",
          "height": 54
        }
      },
      "source": [
        "from sklearn.preprocessing import LabelBinarizer\n",
        "import h5py\n",
        "\n",
        "db = h5py.File('../../test.hdf5', 'r')\n",
        "testImages = db[\"images\"]\n",
        "predictions = model.predict(testImages ,batch_size=64)\n",
        "pred = predictions.argmax(axis=1)"
      ],
      "execution_count": 11,
      "outputs": [
        {
          "output_type": "stream",
          "text": [
            "WARNING:tensorflow:Keras is training/fitting/evaluating on array-like data. Keras may not be optimized for this format, so if your input data format is supported by TensorFlow I/O (https://github.com/tensorflow/io) we recommend using that to load a Dataset instead.\n"
          ],
          "name": "stdout"
        }
      ]
    },
    {
      "cell_type": "code",
      "metadata": {
        "id": "tZs2wp3wHqyC",
        "colab_type": "code",
        "outputId": "5f99bf77-2862-42e0-d53c-a98afc0b1e4d",
        "colab": {
          "base_uri": "https://localhost:8080/",
          "height": 34
        }
      },
      "source": [
        "import pandas as pd\n",
        "\n",
        "test_df = pd.read_csv('Test.csv')\n",
        "labels = test_df['ClassId'].values\n",
        "print(labels[1000], pred[1000])"
      ],
      "execution_count": 12,
      "outputs": [
        {
          "output_type": "stream",
          "text": [
            "17 17\n"
          ],
          "name": "stdout"
        }
      ]
    },
    {
      "cell_type": "code",
      "metadata": {
        "id": "7LacnXxuII3t",
        "colab_type": "code",
        "outputId": "05d0ce8b-914d-4b72-e530-1e536259679f",
        "colab": {
          "base_uri": "https://localhost:8080/",
          "height": 867
        }
      },
      "source": [
        "from sklearn.metrics import classification_report\n",
        "\n",
        "print(classification_report(labels,\n",
        "  predictions.argmax(axis=1)))"
      ],
      "execution_count": 15,
      "outputs": [
        {
          "output_type": "stream",
          "text": [
            "              precision    recall  f1-score   support\n",
            "\n",
            "           0       0.97      0.58      0.73        60\n",
            "           1       0.96      0.97      0.96       720\n",
            "           2       0.94      0.92      0.93       750\n",
            "           3       0.87      0.84      0.85       450\n",
            "           4       0.97      0.92      0.94       660\n",
            "           5       0.68      0.93      0.78       630\n",
            "           6       0.79      0.75      0.77       150\n",
            "           7       0.99      0.79      0.88       450\n",
            "           8       0.96      0.89      0.93       450\n",
            "           9       0.96      0.88      0.92       480\n",
            "          10       0.94      0.92      0.93       660\n",
            "          11       0.97      0.87      0.92       420\n",
            "          12       0.99      0.94      0.96       690\n",
            "          13       0.99      0.99      0.99       720\n",
            "          14       0.99      1.00      0.99       270\n",
            "          15       0.96      0.96      0.96       210\n",
            "          16       1.00      1.00      1.00       150\n",
            "          17       1.00      0.89      0.94       360\n",
            "          18       0.96      0.72      0.82       390\n",
            "          19       0.97      0.63      0.77        60\n",
            "          20       0.82      0.99      0.90        90\n",
            "          21       0.95      0.91      0.93        90\n",
            "          22       0.97      0.82      0.89       120\n",
            "          23       0.97      0.62      0.76       150\n",
            "          24       0.77      0.91      0.83        90\n",
            "          25       0.82      0.92      0.87       480\n",
            "          26       0.69      0.97      0.81       180\n",
            "          27       0.68      0.50      0.58        60\n",
            "          28       0.95      0.87      0.91       150\n",
            "          29       0.80      1.00      0.89        90\n",
            "          30       0.45      0.77      0.57       150\n",
            "          31       0.99      0.94      0.97       270\n",
            "          32       0.80      1.00      0.89        60\n",
            "          33       0.72      0.96      0.82       210\n",
            "          34       0.94      0.98      0.96       120\n",
            "          35       0.94      0.94      0.94       390\n",
            "          36       0.97      0.93      0.95       120\n",
            "          37       0.62      0.95      0.75        60\n",
            "          38       0.96      0.89      0.93       690\n",
            "          39       0.69      0.68      0.68        90\n",
            "          40       0.53      0.87      0.66        90\n",
            "          41       0.93      0.87      0.90        60\n",
            "          42       1.00      0.56      0.71        90\n",
            "\n",
            "    accuracy                           0.90     12630\n",
            "   macro avg       0.88      0.87      0.86     12630\n",
            "weighted avg       0.91      0.90      0.90     12630\n",
            "\n"
          ],
          "name": "stdout"
        }
      ]
    },
    {
      "cell_type": "code",
      "metadata": {
        "id": "hoUcdI-dNTr2",
        "colab_type": "code",
        "outputId": "6f9b47a6-eca3-4726-d276-05507a95ab13",
        "colab": {
          "base_uri": "https://localhost:8080/",
          "height": 34
        }
      },
      "source": [
        " from sklearn.metrics import accuracy_score\n",
        "\n",
        " print(accuracy_score(labels, pred))"
      ],
      "execution_count": 16,
      "outputs": [
        {
          "output_type": "stream",
          "text": [
            "0.8974663499604117\n"
          ],
          "name": "stdout"
        }
      ]
    }
  ]
}