{
  "nbformat": 4,
  "nbformat_minor": 0,
  "metadata": {
    "colab": {
      "name": "Untitled2.ipynb",
      "provenance": [],
      "authorship_tag": "ABX9TyMGoUKM9Hll23pROFEHEF/x",
      "include_colab_link": true
    },
    "kernelspec": {
      "name": "python3",
      "display_name": "Python 3"
    }
  },
  "cells": [
    {
      "cell_type": "markdown",
      "metadata": {
        "id": "view-in-github",
        "colab_type": "text"
      },
      "source": [
        "<a href=\"https://colab.research.google.com/github/vieduy/CS114.K21/blob/master/round_2.ipynb\" target=\"_parent\"><img src=\"https://colab.research.google.com/assets/colab-badge.svg\" alt=\"Open In Colab\"/></a>"
      ]
    },
    {
      "cell_type": "markdown",
      "metadata": {
        "id": "QPYDnGiEuOU9",
        "colab_type": "text"
      },
      "source": [
        "# **Import các thư viện cần dùng**"
      ]
    },
    {
      "cell_type": "code",
      "metadata": {
        "id": "1kenPee-Q9Nr",
        "colab_type": "code",
        "colab": {}
      },
      "source": [
        "import pandas as pd\n",
        "import matplotlib.pyplot as plt\n",
        "import random\n",
        "from sklearn.model_selection import train_test_split\n",
        "from sklearn.linear_model import LinearRegression\n",
        "import numpy as np\n",
        "from sklearn.metrics import mean_squared_error, r2_score"
      ],
      "execution_count": 0,
      "outputs": []
    },
    {
      "cell_type": "markdown",
      "metadata": {
        "id": "PKlX-WZ4uglY",
        "colab_type": "text"
      },
      "source": [
        "# **Xử lý dữ liệu**\n",
        "# - Đọc file .csv\n",
        "# - Visualize 5 sample đầu tiên\n"
      ]
    },
    {
      "cell_type": "code",
      "metadata": {
        "id": "J4SQ5piNwXJw",
        "colab_type": "code",
        "colab": {
          "base_uri": "https://localhost:8080/",
          "height": 119
        },
        "outputId": "65cf8de7-80c4-4825-ff4a-676e30a7c7b8"
      },
      "source": [
        "# preparing data\n",
        "# generate more data \n",
        "time_df = pd.read_csv('data.csv', names=[\"size\", \"time\"])\n",
        "size = time_df['size'].astype(float)\n",
        "\n",
        "column_names = ['size', 'time']\n",
        "pr_df = time_df.reindex(columns=column_names)\n",
        "\n",
        "data = pr_df[['size']].values\n",
        "labels = pr_df['time'].values\n",
        "print(pr_df.head(5))"
      ],
      "execution_count": 11,
      "outputs": [
        {
          "output_type": "stream",
          "text": [
            "      size      time\n",
            "0  6083695  0.521842\n",
            "1  1954367  0.152648\n",
            "2  3734185  0.298548\n",
            "3  5839301  0.460480\n",
            "4  6343427  0.527977\n"
          ],
          "name": "stdout"
        }
      ]
    },
    {
      "cell_type": "markdown",
      "metadata": {
        "id": "NCP8TcELvOQs",
        "colab_type": "text"
      },
      "source": [
        "# **Chia tập dữ liệu thành hai phần training set và test set**"
      ]
    },
    {
      "cell_type": "code",
      "metadata": {
        "id": "evt0qoU2RuO7",
        "colab_type": "code",
        "outputId": "42d483f4-4a05-43db-a0c2-034587969c37",
        "colab": {
          "base_uri": "https://localhost:8080/",
          "height": 102
        }
      },
      "source": [
        "# split train-test set\n",
        "X_train, X_test, y_train, y_test = train_test_split(data, labels, test_size=0.2, random_state=0)\n",
        "\n",
        "# visualize 5 sample của test set\n",
        "print(X_test[:5])"
      ],
      "execution_count": 12,
      "outputs": [
        {
          "output_type": "stream",
          "text": [
            "[[2661626]\n",
            " [7548278]\n",
            " [2316651]\n",
            " [1977028]\n",
            " [6337478]]\n"
          ],
          "name": "stdout"
        }
      ]
    },
    {
      "cell_type": "markdown",
      "metadata": {
        "id": "4yyCxQs0vdRq",
        "colab_type": "text"
      },
      "source": [
        "# **Chọn model Linear Regression cho bài toán và training model**\n"
      ]
    },
    {
      "cell_type": "code",
      "metadata": {
        "id": "DgK9BSCxR12-",
        "colab_type": "code",
        "outputId": "6fd35e27-32cf-4120-bf41-1c9b2b41a33f",
        "colab": {
          "base_uri": "https://localhost:8080/",
          "height": 34
        }
      },
      "source": [
        "# choose model Linearn Regression\n",
        "lire = LinearRegression()\n",
        "\n",
        "# training model...\n",
        "lire.fit(X_train, y_train)"
      ],
      "execution_count": 13,
      "outputs": [
        {
          "output_type": "execute_result",
          "data": {
            "text/plain": [
              "LinearRegression(copy_X=True, fit_intercept=True, n_jobs=None, normalize=False)"
            ]
          },
          "metadata": {
            "tags": []
          },
          "execution_count": 13
        }
      ]
    },
    {
      "cell_type": "markdown",
      "metadata": {
        "id": "G_IcLvXlvyiC",
        "colab_type": "text"
      },
      "source": [
        "# **Dùng model để dự đoán test set**"
      ]
    },
    {
      "cell_type": "code",
      "metadata": {
        "id": "yhzId4PpR5Oy",
        "colab_type": "code",
        "outputId": "24fd9850-5393-440b-cbc7-629d17c5676b",
        "colab": {
          "base_uri": "https://localhost:8080/",
          "height": 51
        }
      },
      "source": [
        "# Predict time\n",
        "y_pred = lire.predict(X_test)\n",
        "\n",
        "# print weight and bias\n",
        "print('weight: ', lire.coef_)\n",
        "print('bias: ',lire.intercept_)"
      ],
      "execution_count": 14,
      "outputs": [
        {
          "output_type": "stream",
          "text": [
            "weight:  [8.45606811e-08]\n",
            "bias:  -0.015924338304915187\n"
          ],
          "name": "stdout"
        }
      ]
    },
    {
      "cell_type": "markdown",
      "metadata": {
        "id": "RyqyXTn9wAlJ",
        "colab_type": "text"
      },
      "source": [
        "# **Mean Square Error và R2 error**"
      ]
    },
    {
      "cell_type": "code",
      "metadata": {
        "id": "YdV9UKb8SJJq",
        "colab_type": "code",
        "outputId": "8287ba2e-d61b-438f-e245-d11a50c11117",
        "colab": {
          "base_uri": "https://localhost:8080/",
          "height": 51
        }
      },
      "source": [
        "# Print test error\n",
        "print('Mean squared error: %.2f' % mean_squared_error(y_test, y_pred))\n",
        "\n",
        "# The coefficient of determination: 1 is perfect prediction\n",
        "print('Coefficient of determination: %.2f' % r2_score(y_test, y_pred))"
      ],
      "execution_count": 17,
      "outputs": [
        {
          "output_type": "stream",
          "text": [
            "Mean squared error: 0.00\n",
            "Coefficient of determination: 1.00\n"
          ],
          "name": "stdout"
        }
      ]
    },
    {
      "cell_type": "markdown",
      "metadata": {
        "id": "pgdF5qWWxCI-",
        "colab_type": "text"
      },
      "source": [
        "# **Visualize dữ liệu**"
      ]
    },
    {
      "cell_type": "code",
      "metadata": {
        "id": "lqmiadbYSM67",
        "colab_type": "code",
        "outputId": "22939148-c2bf-49ba-b945-80b2702b68ef",
        "colab": {
          "base_uri": "https://localhost:8080/",
          "height": 295
        }
      },
      "source": [
        "# Visualize pred vs true-labels\n",
        "plt.plot(np.arange(0, 100), y_pred[:100], 'r^', np.arange(0, 100), y_test[:100], 'go')\n",
        "plt.title('Visualize predicts and true labels')\n",
        "plt.xlabel('X label')\n",
        "plt.ylabel('Y label')\n",
        "plt.show()"
      ],
      "execution_count": 18,
      "outputs": [
        {
          "output_type": "display_data",
          "data": {
            "image/png": "[encoded data removed]",
            "text/plain": [
              "<Figure size 432x288 with 1 Axes>"
            ]
          },
          "metadata": {
            "tags": [],
            "needs_background": "light"
          }
        }
      ]
    }
  ]
}