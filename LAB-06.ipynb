{
  "nbformat": 4,
  "nbformat_minor": 0,
  "metadata": {
    "colab": {
      "name": "Untitled1.ipynb",
      "provenance": [],
      "collapsed_sections": [],
      "authorship_tag": "ABX9TyNJrWsdzUNMtcFxaeKFusi+",
      "include_colab_link": true
    },
    "kernelspec": {
      "name": "python3",
      "display_name": "Python 3"
    }
  },
  "cells": [
    {
      "cell_type": "markdown",
      "metadata": {
        "id": "view-in-github",
        "colab_type": "text"
      },
      "source": [
        "<a href=\"https://colab.research.google.com/github/vieduy/CS114.K21/blob/master/LAB-06.ipynb\" target=\"_parent\"><img src=\"https://colab.research.google.com/assets/colab-badge.svg\" alt=\"Open In Colab\"/></a>"
      ]
    },
    {
      "cell_type": "code",
      "metadata": {
        "id": "imLfyRmXcXhr",
        "colab_type": "code",
        "outputId": "69eb1f3b-47a5-4580-e1e0-bf5efd6fea84",
        "colab": {
          "base_uri": "https://localhost:8080/",
          "height": 136
        }
      },
      "source": [
        "# Check the versions of libraries\n",
        " \n",
        "# Python version\n",
        "import sys\n",
        "print('Python: {}'.format(sys.version))\n",
        "# scipy\n",
        "import scipy\n",
        "print('scipy: {}'.format(scipy.__version__))\n",
        "# numpy\n",
        "import numpy\n",
        "print('numpy: {}'.format(numpy.__version__))\n",
        "# matplotlib\n",
        "import matplotlib\n",
        "print('matplotlib: {}'.format(matplotlib.__version__))\n",
        "# pandas\n",
        "import pandas\n",
        "print('pandas: {}'.format(pandas.__version__))\n",
        "# scikit-learn\n",
        "import sklearn\n",
        "print('sklearn: {}'.format(sklearn.__version__))"
      ],
      "execution_count": 0,
      "outputs": [
        {
          "output_type": "stream",
          "text": [
            "Python: 3.6.9 (default, Apr 18 2020, 01:56:04) \n",
            "[GCC 8.4.0]\n",
            "scipy: 1.4.1\n",
            "numpy: 1.18.4\n",
            "matplotlib: 3.2.1\n",
            "pandas: 1.0.3\n",
            "sklearn: 0.22.2.post1\n"
          ],
          "name": "stdout"
        }
      ]
    },
    {
      "cell_type": "code",
      "metadata": {
        "id": "_bNhIOY-cqGc",
        "colab_type": "code",
        "colab": {}
      },
      "source": [
        "# Load libraries\n",
        "from pandas import read_csv\n",
        "from pandas.plotting import scatter_matrix\n",
        "from matplotlib import pyplot\n",
        "from sklearn.model_selection import train_test_split\n",
        "from sklearn.model_selection import cross_val_score\n",
        "from sklearn.model_selection import StratifiedKFold\n",
        "from sklearn.metrics import classification_report\n",
        "from sklearn.metrics import confusion_matrix\n",
        "from sklearn.metrics import accuracy_score\n",
        "from sklearn.linear_model import LogisticRegression\n",
        "from sklearn.tree import DecisionTreeClassifier\n",
        "from sklearn.neighbors import KNeighborsClassifier\n",
        "from sklearn.discriminant_analysis import LinearDiscriminantAnalysis\n",
        "from sklearn.naive_bayes import GaussianNB\n",
        "from sklearn.svm import SVC"
      ],
      "execution_count": 0,
      "outputs": []
    },
    {
      "cell_type": "code",
      "metadata": {
        "id": "Td3y4a4XicA_",
        "colab_type": "code",
        "colab": {}
      },
      "source": [
        "from keras.datasets import mnist\n",
        "import numpy as np\n",
        "from google.colab.patches import cv2_imshow\n",
        "\n",
        "(X_train, y_train), (X_test, y_test) = mnist.load_data()"
      ],
      "execution_count": 0,
      "outputs": []
    },
    {
      "cell_type": "code",
      "metadata": {
        "id": "i0DiBVnYlYjH",
        "colab_type": "code",
        "outputId": "23a6a5bf-39c7-4b98-8fb3-e1d8cb9ca70f",
        "colab": {
          "base_uri": "https://localhost:8080/",
          "height": 45
        }
      },
      "source": [
        "# visualize the data\n",
        "from google.colab.patches import cv2_imshow\n",
        "cv2_imshow(X_test[0])"
      ],
      "execution_count": 0,
      "outputs": [
        {
          "output_type": "display_data",
          "data": {
            "image/png": "[encoded data removed]",
            "text/plain": [
              "<PIL.Image.Image image mode=L size=28x28 at 0x7FEBBABB5AC8>"
            ]
          },
          "metadata": {
            "tags": []
          }
        }
      ]
    },
    {
      "cell_type": "code",
      "metadata": {
        "id": "oBHOm3zqmNxR",
        "colab_type": "code",
        "colab": {}
      },
      "source": [
        "# reshape data\n",
        "x_train = np.reshape(X_train, (60000, 784))\n",
        "x_test = np.reshape(X_test, (10000, 784))\n",
        "x_train = x_train[:1000]\n",
        "x_test = x_test[:100]\n",
        "y_train = y_train[:1000]\n",
        "y_test = y_test[:100]"
      ],
      "execution_count": 0,
      "outputs": []
    },
    {
      "cell_type": "code",
      "metadata": {
        "id": "0nx8gesXglNq",
        "colab_type": "code",
        "outputId": "ec652d35-1b10-4c2a-df20-bc6d254835ae",
        "colab": {
          "base_uri": "https://localhost:8080/",
          "height": 34
        }
      },
      "source": [
        "# Spot Check Algorithms\n",
        "models = []\n",
        "models.append(('KNN', KNeighborsClassifier()))\n",
        "results = []\n",
        "names = []\n",
        "for name, model in models:\n",
        "\tkfold = StratifiedKFold(n_splits=10, random_state=1, shuffle=True)\n",
        "\tcv_results = cross_val_score(model, x_train, y_train, scoring='accuracy')\n",
        "\tresults.append(cv_results)\n",
        "\tnames.append(name)\n",
        "\tprint('%s: %f (%f)' % (name, cv_results.mean(), cv_results.std()))"
      ],
      "execution_count": 0,
      "outputs": [
        {
          "output_type": "stream",
          "text": [
            "KNN: 0.850000 (0.015492)\n"
          ],
          "name": "stdout"
        }
      ]
    },
    {
      "cell_type": "code",
      "metadata": {
        "id": "8EJK58AlhZ3Z",
        "colab_type": "code",
        "outputId": "0cdaea2e-bbfc-40f9-cf3a-917bb23a6d2c",
        "colab": {
          "base_uri": "https://localhost:8080/",
          "height": 281
        }
      },
      "source": [
        "# Compare Algorithms\n",
        "pyplot.boxplot(results, labels=names)\n",
        "pyplot.title('Algorithm Comparison')\n",
        "pyplot.show()"
      ],
      "execution_count": 0,
      "outputs": [
        {
          "output_type": "display_data",
          "data": {
            "image/png": "[encoded data removed]",
            "text/plain": [
              "<Figure size 432x288 with 1 Axes>"
            ]
          },
          "metadata": {
            "tags": [],
            "needs_background": "light"
          }
        }
      ]
    },
    {
      "cell_type": "code",
      "metadata": {
        "id": "CnYe14cSiGPZ",
        "colab_type": "code",
        "outputId": "d5440919-fde7-4557-d312-39c64a3d5747",
        "colab": {
          "base_uri": "https://localhost:8080/",
          "height": 493
        }
      },
      "source": [
        "# make predictions\n",
        "from pandas import read_csv\n",
        "from sklearn.model_selection import train_test_split\n",
        "from sklearn.metrics import classification_report\n",
        "from sklearn.metrics import confusion_matrix\n",
        "from sklearn.metrics import accuracy_score\n",
        "from sklearn.svm import SVC\n",
        "\n",
        "# Make predictions on validation dataset\n",
        "model = SVC()\n",
        "model.fit(x_train, y_train)\n",
        "predictions = model.predict(x_test)\n",
        "# Evaluate predictions\n",
        "print(accuracy_score(y_test, predictions))\n",
        "print(confusion_matrix(y_test, predictions))\n",
        "print(classification_report(y_test, predictions))"
      ],
      "execution_count": 0,
      "outputs": [
        {
          "output_type": "stream",
          "text": [
            "0.9\n",
            "[[ 8  0  0  0  0  0  0  0  0  0]\n",
            " [ 0 14  0  0  0  0  0  0  0  0]\n",
            " [ 0  0  7  0  0  0  0  1  0  0]\n",
            " [ 0  0  1  8  0  2  0  0  0  0]\n",
            " [ 0  0  0  0 14  0  0  0  0  0]\n",
            " [ 0  0  1  0  0  6  0  0  0  0]\n",
            " [ 0  0  2  0  1  0  7  0  0  0]\n",
            " [ 0  0  0  0  0  0  0 14  0  1]\n",
            " [ 0  0  0  0  0  0  0  0  2  0]\n",
            " [ 0  0  0  0  0  0  0  1  0 10]]\n",
            "              precision    recall  f1-score   support\n",
            "\n",
            "           0       1.00      1.00      1.00         8\n",
            "           1       1.00      1.00      1.00        14\n",
            "           2       0.64      0.88      0.74         8\n",
            "           3       1.00      0.73      0.84        11\n",
            "           4       0.93      1.00      0.97        14\n",
            "           5       0.75      0.86      0.80         7\n",
            "           6       1.00      0.70      0.82        10\n",
            "           7       0.88      0.93      0.90        15\n",
            "           8       1.00      1.00      1.00         2\n",
            "           9       0.91      0.91      0.91        11\n",
            "\n",
            "    accuracy                           0.90       100\n",
            "   macro avg       0.91      0.90      0.90       100\n",
            "weighted avg       0.92      0.90      0.90       100\n",
            "\n"
          ],
          "name": "stdout"
        }
      ]
    }
  ]
}